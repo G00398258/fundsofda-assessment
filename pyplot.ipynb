{
 "cells": [
  {
   "cell_type": "markdown",
   "id": "74dc266f-ca3d-41ba-8367-b0624fa37ebf",
   "metadata": {},
   "source": [
    "# Pyplot Notebook\n",
    "The notebook will contain information on and examples of the pyplot module in Python\n",
    "***"
   ]
  },
  {
   "cell_type": "markdown",
   "id": "cdd5c84c-a191-4e0c-997a-2712d0be18ce",
   "metadata": {},
   "source": [
    "### Requirements"
   ]
  },
  {
   "cell_type": "code",
   "execution_count": 5,
   "id": "5a21471f-52f6-4716-8e76-88f0f51733fe",
   "metadata": {},
   "outputs": [],
   "source": [
    "import numpy as np\n",
    "import matplotlib.pyplot as plt"
   ]
  },
  {
   "cell_type": "markdown",
   "id": "90be95e1-1869-4419-a042-c889e0233926",
   "metadata": {},
   "source": [
    "***"
   ]
  },
  {
   "cell_type": "markdown",
   "id": "953d96c1-5200-434d-a4d4-3fc90a954de7",
   "metadata": {},
   "source": [
    "## Simulating Rolling a Dice\n",
    "Using the example from Week 3 to show how pylot can be used to plot bar charts."
   ]
  },
  {
   "cell_type": "code",
   "execution_count": 6,
   "id": "f3fb3c28-14b6-43f7-8761-2db6b51140c0",
   "metadata": {},
   "outputs": [
    {
     "data": {
      "text/plain": [
       "6"
      ]
     },
     "execution_count": 6,
     "metadata": {},
     "output_type": "execute_result"
    }
   ],
   "source": [
    "# Pick a random number between 1 (incl) and 7 (excl)\n",
    "np.random.randint(1,7)"
   ]
  },
  {
   "cell_type": "code",
   "execution_count": 7,
   "id": "ba5284cc-5dbb-48cf-8984-8ed2577b0e2d",
   "metadata": {},
   "outputs": [
    {
     "name": "stdout",
     "output_type": "stream",
     "text": [
      "[3 2 6 5 6 1 6 6 5 6 6 3 1 6 6 4 3 2 5 5 5 1 5 2 2 5 5 3 3 3 6 1 2 2 1 3 5\n",
      " 5 1 2 5 1 6 6 6 6 2 4 1 3 5 4 4 2 2 2 4 3 4 2 2 1 6 3 3 6 4 1 3 4 2 3 2 2\n",
      " 2 1 3 3 4 3 6 6 3 2 6 5 1 4 1 5 1 4 2 6 2 2 2 3 3 6]\n"
     ]
    }
   ],
   "source": [
    "# Pick many random numbers between 1 (incl) and 7 (excl)\n",
    "dice = np.random.randint(1,7,100) # 100 here is the size\n",
    "print (dice)"
   ]
  },
  {
   "cell_type": "code",
   "execution_count": null,
   "id": "70585605-ece1-4acf-b4ed-59b1fdf08abb",
   "metadata": {},
   "outputs": [],
   "source": []
  },
  {
   "cell_type": "code",
   "execution_count": null,
   "id": "04eb8df2-7a17-41d0-a634-b4a55ff72386",
   "metadata": {},
   "outputs": [],
   "source": []
  },
  {
   "cell_type": "code",
   "execution_count": 8,
   "id": "3bc2f257-e32f-4305-8081-3b98293bc67c",
   "metadata": {},
   "outputs": [
    {
     "data": {
      "text/plain": [
       "(array([1, 2, 3, 4, 5, 6]), array([14, 22, 19, 11, 14, 20], dtype=int64))"
      ]
     },
     "execution_count": 8,
     "metadata": {},
     "output_type": "execute_result"
    }
   ],
   "source": [
    "# Count the # of times each value appears\n",
    "faces, counts = np.unique(dice,return_counts=True)\n",
    "faces, counts"
   ]
  },
  {
   "cell_type": "code",
   "execution_count": 9,
   "id": "a003f60c-9f4e-471c-8865-cea12cfc737b",
   "metadata": {},
   "outputs": [
    {
     "data": {
      "image/png": "[encoded data removed]",
      "text/plain": [
       "<Figure size 432x288 with 1 Axes>"
      ]
     },
     "metadata": {
      "needs_background": "light"
     },
     "output_type": "display_data"
    }
   ],
   "source": [
    "# Plot these results on a horizontal bar chart\n",
    "fig, ax = plt.subplots()\n",
    "ax.barh(faces,counts)\n",
    "# Set Axis labels\n",
    "ax.set_ylabel('Face')\n",
    "ax.set_xlabel('Count');"
   ]
  },
  {
   "cell_type": "markdown",
   "id": "d190a04f-82aa-4d75-abe1-5d5f0ff278de",
   "metadata": {},
   "source": [
    "## Rolling More Than One Dice\n",
    "***"
   ]
  },
  {
   "cell_type": "code",
   "execution_count": 10,
   "id": "fd4e348c-d30d-48df-973d-067103ec8d0c",
   "metadata": {},
   "outputs": [
    {
     "data": {
      "text/plain": [
       "array([[4, 3],\n",
       "       [1, 1],\n",
       "       [6, 2],\n",
       "       ...,\n",
       "       [6, 5],\n",
       "       [6, 3],\n",
       "       [6, 4]])"
      ]
     },
     "execution_count": 10,
     "metadata": {},
     "output_type": "execute_result"
    }
   ],
   "source": [
    "# Number of dice to roll\n",
    "nodice = 2\n",
    "# Number of turns\n",
    "noturns = 1000\n",
    "dice = np.random.randint(1,7,(noturns,nodice)) # variables above contained in a tuple\n",
    "dice"
   ]
  },
  {
   "cell_type": "code",
   "execution_count": 11,
   "id": "30ada2f9-bc6b-41d7-ac59-28666400941e",
   "metadata": {},
   "outputs": [
    {
     "data": {
      "text/plain": [
       "array([ 7,  2,  8,  6,  3, 10,  8,  5, 12, 10, 10, 11, 10, 10,  9,  4, 10,\n",
       "        4,  5, 10,  7,  7,  8,  9,  9,  7,  6,  8, 11,  3, 12,  5, 12,  7,\n",
       "        5, 11, 11,  7,  2,  5,  9,  7,  2,  9,  6,  8,  9,  5,  7, 10,  3,\n",
       "        4,  7,  7,  4,  5,  9,  6,  9, 10,  7,  4,  2,  9,  8,  7, 10,  5,\n",
       "       11,  8,  8,  7,  9,  7,  6,  6, 10,  3,  6, 11,  6,  4, 10,  6,  6,\n",
       "        7, 10,  9,  4,  3,  6,  7, 11,  3,  5,  6,  9,  9,  9,  8,  7,  8,\n",
       "        6,  5,  7,  7,  6,  5,  6, 11,  7,  4,  4,  9,  4,  6,  4,  6,  2,\n",
       "        5,  4,  2,  9,  7,  5,  2,  9,  9,  7,  5,  5,  6,  5,  4,  7, 12,\n",
       "        8,  2, 11, 11, 10,  5,  7,  8,  3,  9,  7,  8,  7,  4,  7,  9, 12,\n",
       "        5, 10,  6,  8,  7,  6,  7,  4,  4,  7, 12,  7,  8,  6,  7,  9,  9,\n",
       "       10,  8,  8,  8,  3,  8,  6,  3, 12,  8,  6,  6,  3,  6,  8,  6,  8,\n",
       "        6,  6,  8,  6,  7,  7, 10,  7,  4,  6,  7,  8,  4,  5,  9,  8,  7,\n",
       "        8,  9,  6,  6,  8,  7,  5,  8, 10,  5,  8,  8, 12,  6,  8,  4,  4,\n",
       "        9,  8,  9,  6, 10,  8,  7,  8,  5,  7,  8, 10,  2, 10,  5,  6,  9,\n",
       "        8,  4, 10,  5,  4,  2,  6,  5,  4,  7,  4,  6,  5,  8,  8,  5,  6,\n",
       "        6,  9, 10,  8,  7,  6,  8,  7,  4,  4,  9,  6,  5,  6,  5,  8, 10,\n",
       "        8,  9, 11,  4, 10,  7,  5,  8,  9,  7,  6,  4, 10,  5,  5,  8,  8,\n",
       "        6,  2,  9, 12,  6,  7,  8,  9,  5, 12,  7,  9,  8,  7,  9,  7,  6,\n",
       "        9,  6,  6,  4, 10,  9,  4,  7,  4,  8,  6,  8,  6,  6,  7,  4,  8,\n",
       "        7,  5,  8, 11,  9,  7,  5,  8,  7,  8, 11,  8,  6,  5,  5,  7,  7,\n",
       "       10,  4,  9, 10, 10,  6,  5,  6,  8,  6,  5,  9,  5,  7,  7,  7,  5,\n",
       "        7,  9,  7, 12,  7,  7,  5, 10,  7,  8, 11, 10,  4,  6, 11,  3,  6,\n",
       "        7,  9, 11,  7,  3,  9,  4,  3,  7,  7,  4,  2,  7,  3,  7, 10,  6,\n",
       "        5,  7,  6,  2,  8,  7,  7,  8,  7,  5, 12,  4,  9,  4,  2,  7, 10,\n",
       "        6,  5,  7,  6,  7,  8,  5,  7,  7,  9,  8,  5,  8,  8,  6,  9, 10,\n",
       "        8,  8,  5,  3, 11,  2,  7,  7,  4,  9,  6,  6, 10, 10,  4,  8,  6,\n",
       "        6, 11,  6,  8,  5,  7, 11,  8,  7,  2,  6,  9, 11,  7, 12,  3, 10,\n",
       "        3, 11, 10, 10,  3,  7,  8,  6,  4, 10,  5,  5,  7,  2, 11,  6, 12,\n",
       "        4,  8,  5,  6, 10,  6,  5, 11,  5,  4,  3,  7,  7,  3,  5,  6,  4,\n",
       "       11,  7,  7,  7,  7,  6,  4,  8, 11, 11,  8,  8,  8,  6,  8, 11,  7,\n",
       "        2,  7,  7,  6, 11,  7,  5,  6,  5, 11, 11,  9,  9,  9, 11,  6,  4,\n",
       "        7, 11, 10,  4,  7,  5,  8,  9,  7,  2,  4,  9,  5,  9,  8, 10,  7,\n",
       "        2, 10,  3,  8,  6,  8,  9,  9,  7, 11,  4,  6,  5,  7, 11,  7,  8,\n",
       "        9,  8,  4,  5,  4, 10,  4,  4,  7, 12,  9,  8,  8,  6,  9,  8,  6,\n",
       "        9,  3,  6,  7,  7, 11,  5,  7,  6,  4,  4,  9, 11,  8, 11,  9,  7,\n",
       "        9,  5,  4,  5,  7,  8, 10,  7,  7,  7,  9,  9,  7,  3,  8,  5, 11,\n",
       "        5,  2,  9,  3, 11,  9,  5,  8,  6,  8,  3,  7,  7,  2,  8,  7,  8,\n",
       "        7,  7, 11,  9,  8,  4,  7, 11,  6,  9, 10,  6,  5,  7, 10,  7,  6,\n",
       "        8,  8,  4, 10,  5,  4, 11,  7, 11,  2,  2, 10,  8,  4,  8,  6,  7,\n",
       "        5,  7,  7,  7,  3,  9,  5,  9,  9,  8,  5,  7, 10, 10,  3,  8,  9,\n",
       "        8, 10,  8,  2, 10,  3,  9,  5,  9,  5,  5,  5,  6,  8,  5, 10,  4,\n",
       "        2, 10,  9,  5,  7,  8,  7,  8,  5,  5,  5,  7,  7, 11, 10,  4,  7,\n",
       "        9,  2,  7,  9, 11,  8,  7, 11,  9, 10,  9,  8,  3,  5,  6,  6, 10,\n",
       "        7, 11,  4,  3,  7, 10,  8,  9,  6,  6,  4,  5,  3,  3,  4,  5,  2,\n",
       "        7,  6, 10,  7,  9,  5,  6,  5,  7,  6,  4,  5,  3,  3,  3,  4,  8,\n",
       "        5,  5,  7,  7,  5, 10,  6,  8,  3,  4, 11,  4,  4,  4,  7,  5, 10,\n",
       "        6,  9,  7,  7,  5, 12,  5,  7,  5, 10, 10,  7,  6,  5,  8,  4,  7,\n",
       "        8,  4,  6,  8,  4,  8,  9,  3,  9,  9,  9, 10, 10,  4,  5,  7,  6,\n",
       "        8,  9,  8,  5,  5,  7,  5,  4,  3,  5,  7,  4,  7,  8,  8,  9,  4,\n",
       "        3,  4,  6,  5,  7,  3,  4,  6, 10,  8,  7,  7, 11,  4,  6,  8,  4,\n",
       "        3,  7,  5,  7,  6,  3,  6,  6,  6, 10,  7,  6,  9,  5,  4,  7,  7,\n",
       "        4,  9,  8,  9,  6, 10, 10,  7,  8,  6,  6,  5,  7,  8,  7,  8,  5,\n",
       "       11,  8,  6, 10,  9,  9,  4, 10,  7,  8,  8,  3,  9,  5,  4,  7,  4,\n",
       "        7,  6,  7,  5,  3,  5,  6, 12,  6,  9,  7,  6,  3,  9,  8,  7,  9,\n",
       "        6, 12,  8, 12,  5,  8,  5,  8,  9,  4,  5,  9,  8,  9,  4, 10,  9,\n",
       "        8,  8,  8,  9,  8,  9,  6,  4,  2, 12,  6, 10,  2,  8,  5,  5,  7,\n",
       "        6,  5,  6,  3,  2,  7,  2,  4,  9, 10,  6,  6,  8, 10,  4,  4,  2,\n",
       "        7,  8,  9, 11,  8,  7,  6,  4, 10,  7,  7,  7,  3,  9,  7,  7,  4,\n",
       "        6,  8,  6,  4,  6,  8, 11,  3,  4,  5,  5, 11,  9, 10])"
      ]
     },
     "execution_count": 11,
     "metadata": {},
     "output_type": "execute_result"
    }
   ],
   "source": [
    "# Sum the faces of the dice\n",
    "totals = np.sum(dice, axis=1)\n",
    "totals"
   ]
  },
  {
   "cell_type": "code",
   "execution_count": 12,
   "id": "d7336b50-7d91-434f-bcda-ca72f77986d7",
   "metadata": {},
   "outputs": [
    {
     "data": {
      "text/plain": [
       "(array([ 2,  3,  4,  5,  6,  7,  8,  9, 10, 11, 12]),\n",
       " array([ 33,  48,  97, 116, 129, 177, 139, 108,  80,  53,  20], dtype=int64))"
      ]
     },
     "execution_count": 12,
     "metadata": {},
     "output_type": "execute_result"
    }
   ],
   "source": [
    "faces, counts = np.unique(totals,return_counts=True)\n",
    "faces, counts"
   ]
  },
  {
   "cell_type": "code",
   "execution_count": 13,
   "id": "bef2c5a6-1117-4a3b-b74e-fe06fbd31bf3",
   "metadata": {},
   "outputs": [
    {
     "data": {
      "image/png": "[encoded data removed]",
      "text/plain": [
       "<Figure size 432x288 with 1 Axes>"
      ]
     },
     "metadata": {
      "needs_background": "light"
     },
     "output_type": "display_data"
    }
   ],
   "source": [
    "# Plot these results on a bar chart\n",
    "fig, ax = plt.subplots()\n",
    "ax.bar(faces,counts)\n",
    "# Set Axis labels\n",
    "ax.set_ylabel('Faces')\n",
    "ax.set_xlabel('Sums');"
   ]
  },
  {
   "cell_type": "markdown",
   "id": "d0bb8620-72e7-4387-8e14-bdc2fdaf16ec",
   "metadata": {},
   "source": [
    "#### What is matplotlib.pyplot?"
   ]
  },
  {
   "cell_type": "markdown",
   "id": "68e9b35b-7147-4f8f-9279-39cf06f64873",
   "metadata": {},
   "source": [
    "As per matplotlib.org, Matplotlib is a comprehensive library for creating static, animated, and interactive visualizations in Python. Within the matplotlib library is the pyplot module, which provides a MATLAB-like interface [g4]. Designed with the intention of being as usable as MATLAB, Matplotlib has the advantage of the ability to use Python and being both free and open-source [g4g]"
   ]
  },
  {
   "cell_type": "code",
   "execution_count": null,
   "id": "fa7392c9-3f65-41fe-85f9-14eed6ad97d8",
   "metadata": {},
   "outputs": [],
   "source": []
  },
  {
   "cell_type": "code",
   "execution_count": null,
   "id": "1dacec6f-baa0-4030-a712-826c7c6d1bea",
   "metadata": {},
   "outputs": [],
   "source": []
  },
  {
   "cell_type": "code",
   "execution_count": null,
   "id": "7e1dcd3c-6228-4728-8a37-90073b905294",
   "metadata": {},
   "outputs": [],
   "source": []
  },
  {
   "cell_type": "code",
   "execution_count": null,
   "id": "d5bc2837-18b6-4fdb-b180-3bb810ba0b29",
   "metadata": {},
   "outputs": [],
   "source": []
  },
  {
   "cell_type": "markdown",
   "id": "12e25146-b553-42e3-9ded-962a0a99f4b8",
   "metadata": {},
   "source": [
    "#### References"
   ]
  },
  {
   "cell_type": "markdown",
   "id": "171a3bd3-7890-45a7-9f26-18f55f401a30",
   "metadata": {},
   "source": [
    "https://www.geeksforgeeks.org/pyplot-in-matplotlib/  \n",
    "https://matplotlib.org/  \n",
    "https://matplotlib.org/stable/api/_as_gen/matplotlib.pyplot.html  \n",
    "https://matplotlib.org/stable/tutorials/introductory/pyplot.html  \n",
    "https://matplotlib.org/stable/users/index.html  \n",
    "https://towardsdatascience.com/a-practical-summary-of-matplotlib-in-13-python-snippets-4d07f0011bdf  \n",
    "https://www.w3schools.com/python/matplotlib_intro.asp  \n"
   ]
  }
 ],
 "metadata": {
  "kernelspec": {
   "display_name": "Python 3",
   "language": "python",
   "name": "python3"
  },
  "language_info": {
   "codemirror_mode": {
    "name": "ipython",
    "version": 3
   },
   "file_extension": ".py",
   "mimetype": "text/x-python",
   "name": "python",
   "nbconvert_exporter": "python",
   "pygments_lexer": "ipython3",
   "version": "3.8.8"
  }
 },
 "nbformat": 4,
 "nbformat_minor": 5
}
