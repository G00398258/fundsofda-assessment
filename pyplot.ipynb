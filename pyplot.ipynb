{
 "cells": [
  {
   "cell_type": "markdown",
   "id": "74dc266f-ca3d-41ba-8367-b0624fa37ebf",
   "metadata": {},
   "source": [
    "# Pyplot Notebook\n",
    "The notebook will contain information on and examples of the pyplot module in Python\n",
    "***"
   ]
  },
  {
   "cell_type": "markdown",
   "id": "cdd5c84c-a191-4e0c-997a-2712d0be18ce",
   "metadata": {},
   "source": [
    "### Requirements\n",
    "***"
   ]
  },
  {
   "cell_type": "code",
   "execution_count": 5,
   "id": "5a21471f-52f6-4716-8e76-88f0f51733fe",
   "metadata": {},
   "outputs": [],
   "source": [
    "# Numpy for numerical operations\n",
    "import numpy as np\n",
    "\n",
    "# Matplotlib.pyplot for plotting\n",
    "import matplotlib.pyplot as plt\n",
    "\n",
    "# Pandas for data analysis\n",
    "import pandas as pd"
   ]
  },
  {
   "cell_type": "markdown",
   "id": "45c3f082-03f2-494d-bfcb-ff8dd4b05974",
   "metadata": {},
   "source": [
    "<br>"
   ]
  },
  {
   "cell_type": "markdown",
   "id": "d0bb8620-72e7-4387-8e14-bdc2fdaf16ec",
   "metadata": {},
   "source": [
    "#### What is matplotlib.pyplot?"
   ]
  },
  {
   "cell_type": "markdown",
   "id": "0182ad26-0e87-4794-8599-bc440369409e",
   "metadata": {},
   "source": [
    "![](data:image/png;base64,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)  \n",
    "*Image Source:* [matplotlib.org](data:image/png;base64,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)  "
   ]
  },
  {
   "cell_type": "markdown",
   "id": "68e9b35b-7147-4f8f-9279-39cf06f64873",
   "metadata": {},
   "source": [
    "If you were to take a look at any dataset, you could easily become overwhelmed by the vast amount of rows and columns of information before you. It has been said that one of the most important aspects of working with data is being able to visualize it (realpython). Matplotlib and its submodule pyplot (often referred to using the alias plt) is one of the most popular modules used for data visualisation in Python (realpython).  \n",
    "\n",
    "As per matplotlib.org, Matplotlib is a comprehensive library for creating static, animated, and interactive visualizations in Python. The pyplot submodule provides a MATLAB-like interface [g4]. Designed with the intention of being as usable as MATLAB, Matplotlib has the advantage of the ability to use Python and being both free and open-source [g4g]. This, combined with the ability to create both simple and more complex plots, is why Matplotlib.Pyplot is so popular with users.  \n",
    "\n",
    "Many aspects of the plots available in Matplotlib are customizable, from the colours used to the different marker types available, to the line styles and even the figure sizes of the plots. Matplotlib.pyplot can be used to plot many different kinds of plots in Python, including bar charts, histograms and tree plots, but in this notebook we will be looking at pie charts, scatter plots & stacked (area) plots."
   ]
  },
  {
   "cell_type": "markdown",
   "id": "ed30e56a-d16c-40cc-922f-2e98817a7fe8",
   "metadata": {},
   "source": [
    "<br>"
   ]
  },
  {
   "cell_type": "markdown",
   "id": "afc7ee88-1d0d-44e7-b1b2-0a6bf44dfc71",
   "metadata": {},
   "source": [
    "### Pie Charts\n",
    "***"
   ]
  },
  {
   "cell_type": "markdown",
   "id": "00425817-e54d-4794-8618-f3daa360f5f5",
   "metadata": {},
   "source": [
    "![](data:image/jpeg;base64,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)  \n",
    "*Image Source:* [istockphoto.com](data:image/jpeg;base64,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)  "
   ]
  },
  {
   "cell_type": "markdown",
   "id": "01d971ec-c230-4216-b918-f884fafa37a1",
   "metadata": {},
   "source": [
    "**What is a Pie Chart?**"
   ]
  },
  {
   "cell_type": "markdown",
   "id": "1240abd2-d8e3-449f-9bb8-1b2abc9fd41c",
   "metadata": {},
   "source": [
    "Ref https://www.geeksforgeeks.org/plot-a-pie-chart-in-python-using-matplotlib/: As per geeksforgeeks.org, a  Pie Chart is a circular statistical plot that only displays one series of data. The area of the chart represents the total percentage of the given data, while the slices (or wedges) represent the percentage of the different parts of the data. Pie charts can provide a quick visual summary and are commonly used in business presentations to show the breakdown of sales, operations and survey results."
   ]
  },
  {
   "cell_type": "markdown",
   "id": "8de59b78-542e-4967-a870-4dede7d3afb2",
   "metadata": {},
   "source": [
    "<br>"
   ]
  },
  {
   "cell_type": "markdown",
   "id": "f8ba9600-9b3f-48fd-8ebe-ed86c43cdc5f",
   "metadata": {},
   "source": [
    "**How do I create a Pie Chart in Pyplot?**  "
   ]
  },
  {
   "cell_type": "markdown",
   "id": "7b83f715-7386-489b-8842-729c5db86aa6",
   "metadata": {},
   "source": [
    "[Matplotlib.org](https://matplotlib.org/stable/api/_as_gen/matplotlib.pyplot.pie.html) provides the following syntax and information on how to create a Pie Chart using Pyplot:  "
   ]
  },
  {
   "cell_type": "markdown",
   "id": "3bc110ac-9f69-4367-873a-7f35b0366f61",
   "metadata": {},
   "source": [
    "``matplotlib.pyplot.pie``"
   ]
  },
  {
   "cell_type": "markdown",
   "id": "98815d8a-3d57-40de-8736-101b8287c9df",
   "metadata": {},
   "source": [
    "``matplotlib.pyplot.pie(x, explode=None, labels=None, colors=None, autopct=None, pctdistance=0.6, shadow=False, labeldistance=1.1, startangle=0, radius=1, counterclock=True, wedgeprops=None, textprops=None, center=(0, 0), frame=False, rotatelabels=False, *, normalize=True, data=None)``"
   ]
  },
  {
   "cell_type": "markdown",
   "id": "6e17c4b4-9a59-4eb9-a395-a6e184406f22",
   "metadata": {},
   "source": [
    "Plot a pie chart.  \n",
    "\n",
    "Make a pie chart of array x. The fractional area of each wedge is given by x/sum(x). If sum(x) < 1, then the values of x give the fractional area directly and the array will not be normalized. The resulting pie will have an empty wedge of size 1 - sum(x).  \n",
    "\n",
    "The wedges are plotted counterclockwise, by default starting from the x-axis.  \n",
    "\n"
   ]
  },
  {
   "cell_type": "markdown",
   "id": "f855887c-5ced-49a1-9670-2c3d25d69087",
   "metadata": {},
   "source": [
    "**Parameters**  \n",
    "x: 1D array-like  \n",
    "The wedge sizes  \n",
    "\n",
    "explode: array-like, default: None  \n",
    "If not None, is a len(x) array which specifies the fraction of the radius with which to offset each wedge  \n",
    "\n",
    "labels: list, default: None  \n",
    "A sequence of strings providing the labels for each wedge  \n",
    "\n",
    "colors: array-like, default: None  \n",
    "A sequence of colors through which the pie chart will cycle. If None, will use the colors in the currently active cycle  \n",
    "\n",
    "autopct: None or str or callable, default: None  \n",
    "If not None, is a string or function used to label the wedges with their numeric value. The label will be placed inside the wedge. If it is a format string, the label will be fmt % pct. If it is a function, it will be called  \n",
    "\n",
    "pctdistance: float, default: 0.6  \n",
    "The ratio between the center of each pie slice and the start of the text generated by autopct. Ignored if autopct is None  \n",
    "\n",
    "shadow: bool, default: False  \n",
    "Draw a shadow beneath the pie  \n",
    "\n",
    "normalize: bool, default: True  \n",
    "When True, always make a full pie by normalizing x so that sum(x) == 1. False makes a partial pie if sum(x) <= 1 and raises a ValueError for sum(x) > 1  \n",
    "\n",
    "labeldistance: float or None, default: 1.1  \n",
    "The radial distance at which the pie labels are drawn. If set to None, label are not drawn, but are stored for use in legend()  \n",
    "\n",
    "startangle: float, default: 0 degrees  \n",
    "The angle by which the start of the pie is rotated, counterclockwise from the x-axis  \n",
    "\n",
    "radius: float, default: 1  \n",
    "The radius of the pie  \n",
    "\n",
    "counterclock bool, default: True  \n",
    "Specify fractions direction, clockwise or counterclockwise  \n",
    "\n",
    "wedgeprops: dict, default: None  \n",
    "Dict of arguments passed to the wedge objects making the pie. For example, you can pass in wedgeprops = {'linewidth': 3} to set the width of the wedge border lines equal to 3. For more details, look at the doc/arguments of the wedge object. By default clip_on=False  \n",
    "\n",
    "textprops: dict, default: None  \n",
    "Dict of arguments to pass to the text objects  \n",
    "\n",
    "center: (float, float), default: (0, 0)  \n",
    "The coordinates of the center of the chart  \n",
    "\n",
    "frame: bool, default: False  \n",
    "Plot Axes frame with the chart if true  \n",
    "\n",
    "rotatelabels: bool, default: False  \n",
    "Rotate each label to the angle of the corresponding slice if true  \n",
    "\n",
    "data: indexable object, optional  \n",
    "If given, the following parameters also accept a string s, which is interpreted as data[s] (unless this raises an exception):  \n",
    "x, explode, labels, colors  \n",
    "\n",
    "**Returns**  \n",
    "patches: list  \n",
    "A sequence of matplotlib.patches.Wedge instances  \n",
    "\n",
    "texts: list  \n",
    "A list of the label Text instances  \n",
    "\n",
    "autotexts: list  \n",
    "A list of Text instances for the numeric labels. This will only be returned if the parameter autopct is not None  "
   ]
  },
  {
   "cell_type": "markdown",
   "id": "f567791d-2729-4a48-aaab-45edf721b769",
   "metadata": {},
   "source": [
    "<br>"
   ]
  },
  {
   "cell_type": "markdown",
   "id": "f6f08317-c27a-4ffb-8dbe-76f3fd9df7b9",
   "metadata": {},
   "source": [
    "**Pie Chart Example**  \n",
    "Lets plot a pie chart showing the breakdown of the different COVID-19 vaccines administered in Ireland.  \n",
    "\n",
    "_**Note:**_ the data used in the following example was taken from https://covid-19.geohive.ie/pages/vaccinations and accessed on 20th December 2021.  "
   ]
  },
  {
   "cell_type": "code",
   "execution_count": 2,
   "id": "fdb9d662-8013-4fb4-8a8e-701ef77f10b2",
   "metadata": {},
   "outputs": [
    {
     "data": {
      "image/png": "[encoded data removed]",
      "text/plain": [
       "<Figure size 432x288 with 1 Axes>"
      ]
     },
     "metadata": {},
     "output_type": "display_data"
    }
   ],
   "source": [
    "# Setting the data values & labels\n",
    "y = np.array([73.2, 15.98, 7.65, 3.17])\n",
    "mylabels = [\"Pfizer-BioNTech\", \"AstraZeneca\", \"Moderna\", \"Janssen\"]\n",
    "\n",
    "# Plot a pie chart listing values to 2 decimal places, using explode to make the biggest value (Pfizer) stand out\n",
    "plt.pie(y, labels = mylabels, explode=(0.1,0,0,0), autopct = '%.2f%%')\n",
    "\n",
    "# Adding a legend and title\n",
    "plt.legend(title = \"Vaccines Available:\")\n",
    "plt.title(\"Breakdown of COVID-19 Vaccines Administered\")\n",
    "\n",
    "# Changing the figure size\n",
    "plt.rcParams['figure.figsize'] = (10,7)\n",
    "plt.show() "
   ]
  },
  {
   "cell_type": "markdown",
   "id": "ddd9fe83-8e93-4554-95a5-f9ce55fa4852",
   "metadata": {},
   "source": [
    "<br>"
   ]
  },
  {
   "cell_type": "markdown",
   "id": "202df840-53fe-4851-adaf-a033cfc14ca5",
   "metadata": {},
   "source": [
    "### Scatter Plots\n",
    "***"
   ]
  },
  {
   "cell_type": "markdown",
   "id": "5844df1a-5c7d-4465-aa1d-840a318e7896",
   "metadata": {},
   "source": [
    "![](https://chartio.com/images/tutorials/charts/scatter-plots/scatter-plot-example-1.png)  \n",
    "*Image Source:* [chartio.com](https://chartio.com/images/tutorials/charts/scatter-plots/scatter-plot-example-1.png)  "
   ]
  },
  {
   "cell_type": "markdown",
   "id": "fc46e83d-93ec-4680-aeee-891e0ff2782e",
   "metadata": {},
   "source": [
    "**What is a Scatter Plot?**  "
   ]
  },
  {
   "cell_type": "markdown",
   "id": "0ff6c808-a9b6-4432-9bd9-5a68da9517bb",
   "metadata": {},
   "source": [
    "Ref realpython: Real Python explains that Scatter Plots are a visual representation of how two variables relate to each other. Scatter Plots are therefore different from Pie Charts, as they can be used to explore the relationship or correlation between two variables, help us identify any outliers in a dataset, and see how a change in one affects another. (realpy, towardsds & https://www.geeksforgeeks.org/matplotlib-pyplot-scatter-in-python/)  "
   ]
  },
  {
   "cell_type": "markdown",
   "id": "9c696b00-aabb-428d-a1aa-daad894e05c8",
   "metadata": {},
   "source": [
    "<br>"
   ]
  },
  {
   "cell_type": "markdown",
   "id": "ad77e08b-d928-4d26-9217-ccb4c94acc6d",
   "metadata": {},
   "source": [
    "**How do I create a Scatter Plot in Pyplot?**  "
   ]
  },
  {
   "cell_type": "markdown",
   "id": "c24a2ef1-6c04-4340-bea3-00db20fb51a5",
   "metadata": {},
   "source": [
    "[Matplotlib.org](https://matplotlib.org/stable/api/_as_gen/matplotlib.pyplot.scatter.html) provides the following syntax and information on how to create a Scatter Plot using Pyplot:  "
   ]
  },
  {
   "cell_type": "markdown",
   "id": "864f6536-6d2d-415c-b80d-06e691700408",
   "metadata": {},
   "source": [
    "``matplotlib.pyplot.scatter``"
   ]
  },
  {
   "cell_type": "markdown",
   "id": "0c4be40a-0eb6-4f78-bb40-6d1628fb7886",
   "metadata": {},
   "source": [
    "``matplotlib.pyplot.scatter(x, y, s=None, c=None, marker=None, cmap=None, norm=None, vmin=None, vmax=None, alpha=None, linewidths=None, *, edgecolors=None, plotnonfinite=False, data=None, **kwargs)``"
   ]
  },
  {
   "cell_type": "markdown",
   "id": "e202a60f-a9b5-44ff-8a71-cff91e530f0b",
   "metadata": {},
   "source": [
    "A scatter plot of y vs. x with varying marker size and/or color.  "
   ]
  },
  {
   "cell_type": "markdown",
   "id": "2eef4532-0fab-4763-b6d8-4847ac12a3bc",
   "metadata": {},
   "source": [
    "**Parameters**  \n",
    "x, y: float or array-like, shape (n, )  \n",
    "The data positions  \n",
    "\n",
    "s: float or array-like, shape (n, ), optional  \n",
    "The marker size in points**2. Default is rcParams['lines.markersize'] ** 2  \n",
    "\n",
    "c: array-like or list of colors or color, optional  \n",
    "The marker colors. Possible values:  \n",
    "\n",
    "- A scalar or sequence of n numbers to be mapped to colors using cmap and norm  \n",
    "- A 2D array in which the rows are RGB or RGBA  \n",
    "- A sequence of colors of length n  \n",
    "- A single color format string  \n",
    "\n",
    "Note that c should not be a single numeric RGB or RGBA sequence because that is indistinguishable from an array of values to be colormapped. If you want to specify the same RGB or RGBA value for all points, use a 2D array with a single row. Otherwise, value- matching will have precedence in case of a size matching with x and y  \n",
    "\n",
    "If you wish to specify a single color for all points prefer the color keyword argument  \n",
    "\n",
    "Defaults to None. In that case the marker color is determined by the value of color, facecolor or facecolors. In case those are not specified or None, the marker color is determined by the next color of the Axes' current \"shape and fill\" color cycle. This cycle defaults to rcParams[\"axes.prop_cycle\"] (default: cycler('color', ['#1f77b4', '#ff7f0e', '#2ca02c', '#d62728', '#9467bd', '#8c564b', '#e377c2', '#7f7f7f', '#bcbd22', '#17becf']))  \n",
    "\n",
    "marker: MarkerStyle, default: rcParams[\"scatter.marker\"] (default: 'o')  \n",
    "The marker style. marker can be either an instance of the class or the text shorthand for a particular marker. See matplotlib.markers for more information about marker styles  \n",
    "\n",
    "cmap: str or Colormap, default: rcParams[\"image.cmap\"] (default: 'viridis')  \n",
    "A Colormap instance or registered colormap name. cmap is only used if c is an array of floats  \n",
    "\n",
    "norm: Normalize, default: None  \n",
    "If c is an array of floats, norm is used to scale the color data, c, in the range 0 to 1, in order to map into the colormap cmap. If None, use the default colors.Normalize  \n",
    "\n",
    "vmin, vmax: float, default: None  \n",
    "vmin and vmax are used in conjunction with the default norm to map the color array c to the colormap cmap. If None, the respective min and max of the color array is used. It is an error to use vmin/vmax when norm is given  \n",
    "\n",
    "alpha: float, default: None  \n",
    "The alpha blending value, between 0 (transparent) and 1 (opaque)  \n",
    "\n",
    "linewidths: float or array-like, default: rcParams[\"lines.linewidth\"] (default: 1.5)  \n",
    "The linewidth of the marker edges. Note: The default edgecolors is 'face'. You may want to change this as well  \n",
    "\n",
    "edgecolors: {'face', 'none', None} or color or sequence of color, default: rcParams[\"scatter.edgecolors\"] (default: 'face')  \n",
    "The edge color of the marker. Possible values:  \n",
    "\n",
    "- 'face': The edge color will always be the same as the face color  \n",
    "- 'none': No patch boundary will be drawn  \n",
    "- A color or sequence of colors  \n",
    "\n",
    "For non-filled markers, edgecolors is ignored. Instead, the color is determined like with 'face', i.e. from c, colors, or facecolors  \n",
    "\n",
    "plotnonfinite: bool, default: False  \n",
    "Whether to plot points with nonfinite c (i.e. inf, -inf or nan). If True the points are drawn with the bad colormap color (see Colormap.set_bad)  \n",
    "\n",
    "**Returns**  \n",
    "PathCollection  "
   ]
  },
  {
   "cell_type": "markdown",
   "id": "48d3c110-d155-4039-beb2-e2d7f7870a43",
   "metadata": {},
   "source": [
    "**Other Parameters**  \n",
    "data: indexable object, optional  \n",
    "If given, the following parameters also accept a string s, which is interpreted as data[s] (unless this raises an exception):  \n",
    "\n",
    "x, y, s, linewidths, edgecolors, c, facecolor, facecolors, color  \n",
    "\n",
    "**kwargs: Collection properties"
   ]
  },
  {
   "cell_type": "markdown",
   "id": "28f2446d-3366-47f2-8f72-ef5661c5a3fe",
   "metadata": {},
   "source": [
    "<br>"
   ]
  },
  {
   "cell_type": "markdown",
   "id": "aeda8495-6ebe-456e-af27-994b399003a6",
   "metadata": {},
   "source": [
    "**Scatter Plot Example**"
   ]
  },
  {
   "cell_type": "markdown",
   "id": "870e64cc-1bd5-45ba-beb9-43bd97e2f680",
   "metadata": {},
   "source": [
    "Lets plot a Scatter Plot using data from the Iris Dateset (available [here](https://gist.githubusercontent.com/curran/a08a1080b88344b0c8a7/raw/639388c2cbc2120a14dcf466e85730eb8be498bb/iris.csv)).  "
   ]
  },
  {
   "cell_type": "code",
   "execution_count": 3,
   "id": "46519da3-56a2-421e-bc29-88b2dd6ae042",
   "metadata": {},
   "outputs": [],
   "source": [
    "# Load the Iris dataset from a URL into a dataframe\n",
    "df = pd.read_csv(\"https://gist.githubusercontent.com/curran/a08a1080b88344b0c8a7/raw/639388c2cbc2120a14dcf466e85730eb8be498bb/iris.csv\")\n",
    "\n",
    "# Breaking this dataframe out into a separate dataframe for each species\n",
    "df_setosa = df[df['species'] == 'setosa']\n",
    "df_versicolor = df[df['species'] == 'versicolor']\n",
    "df_virginica = df[df['species'] == 'virginica']\n",
    "\n",
    "# Setting variables for the sepal width values in each species of flower\n",
    "setosa_sw = df_setosa['sepal_width']\n",
    "virginica_sw = df_virginica['sepal_width']\n",
    "versicolor_sw = df_versicolor['sepal_width']\n",
    "\n",
    "# Setting variables for the sepal length values in each species of flower\n",
    "setosa_sl = df_setosa['sepal_length']\n",
    "virginica_sl = df_virginica['sepal_length']\n",
    "versicolor_sl = df_versicolor['sepal_length']"
   ]
  },
  {
   "cell_type": "code",
   "execution_count": 4,
   "id": "4a74b271-1f98-4b0d-836c-d63d8f925ada",
   "metadata": {},
   "outputs": [
    {
     "data": {
      "text/plain": [
       "Text(0.5, 1.0, 'Sepal Lengths & Widths in the Iris Dataset')"
      ]
     },
     "execution_count": 4,
     "metadata": {},
     "output_type": "execute_result"
    },
    {
     "data": {
      "image/png": "[encoded data removed]",
      "text/plain": [
       "<Figure size 720x504 with 1 Axes>"
      ]
     },
     "metadata": {},
     "output_type": "display_data"
    }
   ],
   "source": [
    "# Changing the style & figsize\n",
    "plt.style.use(\"seaborn\")\n",
    "plt.rcParams['figure.figsize'] = [10, 7]\n",
    "\n",
    "# Plot a scatter plot showing the different sepal lengths & widths of each species\n",
    "plt.scatter(setosa_sw, setosa_sl, label = 'Setosa', c ='red')\n",
    "plt.scatter(virginica_sw, virginica_sl, label = 'Virginica', c = 'green')\n",
    "plt.scatter(versicolor_sw, versicolor_sl, label = 'Versicolor', c = 'blue')\n",
    "\n",
    "# Set the axis labels\n",
    "plt.xlabel('Sepal Width')\n",
    "plt.ylabel('Sepal Length')\n",
    "\n",
    "# Give the plot a legend and title\n",
    "plt.legend()\n",
    "plt.title('Sepal Lengths & Widths in the Iris Dataset')"
   ]
  },
  {
   "cell_type": "markdown",
   "id": "7d176342-a0e2-47b6-b04a-b19cbe1f6530",
   "metadata": {},
   "source": [
    "This is an example of how useful a Scatter Plot can be. From a quick glance, you can see that the Setosa species (red) has the largest sepal width, while Virginica (green) has the largest sepal length. You can also observe that in general, the Versicolor and Virginica species seem to have similar values bunched together for both sepal length and width.  "
   ]
  },
  {
   "cell_type": "markdown",
   "id": "bf973d42-82fc-415f-bdcd-82f30a712f1b",
   "metadata": {},
   "source": [
    "<br>"
   ]
  },
  {
   "cell_type": "markdown",
   "id": "c3b3b2c8-908e-40d4-8e71-ae31ce2bea4b",
   "metadata": {},
   "source": [
    "### Stacked Area Plots\n",
    "***"
   ]
  },
  {
   "cell_type": "markdown",
   "id": "4e12d141-ac27-4da0-bc6b-b3a8fc77a8af",
   "metadata": {},
   "source": [
    "**What is a Stacked Area Plot?**  "
   ]
  },
  {
   "cell_type": "markdown",
   "id": "a2e47e12-e6d0-4e73-866a-34cb554e3e00",
   "metadata": {},
   "source": [
    "Stacked Area Plots, or Stack Plots, are used to plot linear data in a vertical order, with each linear plot stacked on top of the other. Like Pie Charts, a Stack Plot displays the complete data for visualization, showing how each different forms part of the complete figure, with the difference being Stack Plots show \"parts to the whole\" over time. (ref stack abuse, g4g, pythonprog)  "
   ]
  },
  {
   "cell_type": "code",
   "execution_count": null,
   "id": "e7b6046c-2593-4c58-8ecc-d767b7af6ddc",
   "metadata": {},
   "outputs": [],
   "source": []
  },
  {
   "cell_type": "code",
   "execution_count": null,
   "id": "784047fa-f1b0-4129-836a-cd97305db981",
   "metadata": {},
   "outputs": [],
   "source": []
  },
  {
   "cell_type": "markdown",
   "id": "91cd1f90-6389-4cc4-affa-8592e307ee78",
   "metadata": {},
   "source": [
    "<br>"
   ]
  },
  {
   "cell_type": "markdown",
   "id": "12e25146-b553-42e3-9ded-962a0a99f4b8",
   "metadata": {},
   "source": [
    "### References\n",
    "***"
   ]
  },
  {
   "cell_type": "markdown",
   "id": "171a3bd3-7890-45a7-9f26-18f55f401a30",
   "metadata": {},
   "source": [
    "[] https://dzone.com/articles/types-of-matplotlib-in-python  \n",
    "[] https://matplotlib.org/  \n",
    "[] https://matplotlib.org/stable/api/_as_gen/matplotlib.pyplot.html  \n",
    "[] https://matplotlib.org/stable/api/_as_gen/matplotlib.pyplot.pie.html  \n",
    "[] https://matplotlib.org/stable/api/_as_gen/matplotlib.pyplot.plot.html    \n",
    "[] https://matplotlib.org/stable/api/_as_gen/matplotlib.pyplot.scatter.html  \n",
    "[] https://matplotlib.org/stable/tutorials/introductory/pyplot.html  \n",
    "[] https://matplotlib.org/stable/users/index.html  \n",
    "[] https://realpython.com/visualizing-python-plt-scatter/  \n",
    "[] https://stackoverflow.com/questions/6170246/how-do-i-use-matplotlib-autopct  \n",
    "[] https://stackabuse.com/matplotlib-stack-plot-tutorial-and-examples/  \n",
    "[] https://towardsdatascience.com/scatterplot-creation-and-visualisation-with-matplotlib-in-python-7bca2a4fa7cf  \n",
    "[] https://towardsdatascience.com/a-practical-summary-of-matplotlib-in-13-python-snippets-4d07f0011bdf  \n",
    "[] https://www.tutorialspoint.com/matplotlib/matplotlib_pie_chart.htm  \n",
    "[] https://www.geeksforgeeks.org/graph-plotting-in-python-set-1/  \n",
    "[] https://www.geeksforgeeks.org/matplotlib-pyplot-scatter-in-python/  \n",
    "[] https://www.geeksforgeeks.org/matplotlib-pyplot-stackplot-in-python/  \n",
    "[] https://www.geeksforgeeks.org/plot-a-pie-chart-in-python-using-matplotlib/  \n",
    "[] https://www.geeksforgeeks.org/pyplot-in-matplotlib/  \n",
    "[] https://www.geeksforgeeks.org/python-matplotlib-an-overview/  \n",
    "[] https://www.python-graph-gallery.com/stacked-area-plot/  \n",
    "[] https://www.w3schools.com/python/matplotlib_intro.asp  \n"
   ]
  },
  {
   "cell_type": "markdown",
   "id": "e873adec-a4e7-44e4-a908-88861e54e5d7",
   "metadata": {},
   "source": [
    "<br>"
   ]
  },
  {
   "cell_type": "markdown",
   "id": "264cfb24-8609-47b8-acee-b3fd730ec3ef",
   "metadata": {},
   "source": [
    "# End\n",
    "***"
   ]
  }
 ],
 "metadata": {
  "kernelspec": {
   "display_name": "Python 3",
   "language": "python",
   "name": "python3"
  },
  "language_info": {
   "codemirror_mode": {
    "name": "ipython",
    "version": 3
   },
   "file_extension": ".py",
   "mimetype": "text/x-python",
   "name": "python",
   "nbconvert_exporter": "python",
   "pygments_lexer": "ipython3",
   "version": "3.8.8"
  }
 },
 "nbformat": 4,
 "nbformat_minor": 5
}
