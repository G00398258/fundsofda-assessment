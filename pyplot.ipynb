{
 "cells": [
  {
   "cell_type": "markdown",
   "id": "74dc266f-ca3d-41ba-8367-b0624fa37ebf",
   "metadata": {},
   "source": [
    "# Pyplot Notebook\n",
    "The notebook will contain information on and examples of the pyplot module in Python\n",
    "***"
   ]
  },
  {
   "cell_type": "markdown",
   "id": "cdd5c84c-a191-4e0c-997a-2712d0be18ce",
   "metadata": {},
   "source": [
    "### Requirements\n",
    "***"
   ]
  },
  {
   "cell_type": "code",
   "execution_count": 1,
   "id": "5a21471f-52f6-4716-8e76-88f0f51733fe",
   "metadata": {},
   "outputs": [],
   "source": [
    "import numpy as np\n",
    "import matplotlib.pyplot as plt\n",
    "import pandas as pd"
   ]
  },
  {
   "cell_type": "markdown",
   "id": "45c3f082-03f2-494d-bfcb-ff8dd4b05974",
   "metadata": {},
   "source": [
    "<br>"
   ]
  },
  {
   "cell_type": "markdown",
   "id": "953d96c1-5200-434d-a4d4-3fc90a954de7",
   "metadata": {},
   "source": [
    "### Bar Charts - Simulating Rolling a Dice\n",
    "***\n",
    "Using the example from Week 3 to show how pylot can be used to plot bar charts."
   ]
  },
  {
   "cell_type": "code",
   "execution_count": 2,
   "id": "f3fb3c28-14b6-43f7-8761-2db6b51140c0",
   "metadata": {},
   "outputs": [
    {
     "data": {
      "text/plain": [
       "2"
      ]
     },
     "execution_count": 2,
     "metadata": {},
     "output_type": "execute_result"
    }
   ],
   "source": [
    "# Pick a random number between 1 (incl) and 7 (excl)\n",
    "np.random.randint(1,7)"
   ]
  },
  {
   "cell_type": "code",
   "execution_count": 3,
   "id": "ba5284cc-5dbb-48cf-8984-8ed2577b0e2d",
   "metadata": {},
   "outputs": [
    {
     "name": "stdout",
     "output_type": "stream",
     "text": [
      "[2 6 2 6 1 4 4 1 2 1 6 5 3 6 4 2 5 2 3 3 4 3 2 6 2 2 6 3 4 2 5 2 5 1 2 4 2\n",
      " 5 6 6 5 2 1 1 6 5 5 1 1 5 3 2 2 3 2 3 6 2 6 2 5 2 1 1 1 5 3 1 1 5 5 4 6 6\n",
      " 3 6 2 2 4 2 1 2 3 6 2 1 4 6 4 1 2 4 6 2 1 2 6 1 3 4]\n"
     ]
    }
   ],
   "source": [
    "# Pick many random numbers between 1 (incl) and 7 (excl)\n",
    "dice = np.random.randint(1,7,100) # 100 here is the size\n",
    "print (dice)"
   ]
  },
  {
   "cell_type": "code",
   "execution_count": null,
   "id": "70585605-ece1-4acf-b4ed-59b1fdf08abb",
   "metadata": {},
   "outputs": [],
   "source": []
  },
  {
   "cell_type": "code",
   "execution_count": null,
   "id": "04eb8df2-7a17-41d0-a634-b4a55ff72386",
   "metadata": {},
   "outputs": [],
   "source": []
  },
  {
   "cell_type": "code",
   "execution_count": 4,
   "id": "3bc2f257-e32f-4305-8081-3b98293bc67c",
   "metadata": {},
   "outputs": [
    {
     "data": {
      "text/plain": [
       "(array([1, 2, 3, 4, 5, 6]), array([18, 27, 12, 12, 13, 18], dtype=int64))"
      ]
     },
     "execution_count": 4,
     "metadata": {},
     "output_type": "execute_result"
    }
   ],
   "source": [
    "# Count the # of times each value appears\n",
    "faces, counts = np.unique(dice,return_counts=True)\n",
    "faces, counts"
   ]
  },
  {
   "cell_type": "code",
   "execution_count": 5,
   "id": "a003f60c-9f4e-471c-8865-cea12cfc737b",
   "metadata": {},
   "outputs": [
    {
     "data": {
      "image/png": "[encoded data removed]",
      "text/plain": [
       "<Figure size 432x288 with 1 Axes>"
      ]
     },
     "metadata": {
      "needs_background": "light"
     },
     "output_type": "display_data"
    }
   ],
   "source": [
    "# Plot these results on a horizontal bar chart\n",
    "fig, ax = plt.subplots()\n",
    "ax.barh(faces,counts)\n",
    "# Set Axis labels\n",
    "ax.set_ylabel('Face')\n",
    "ax.set_xlabel('Count');"
   ]
  },
  {
   "cell_type": "markdown",
   "id": "d190a04f-82aa-4d75-abe1-5d5f0ff278de",
   "metadata": {},
   "source": [
    "## Rolling More Than One Dice\n",
    "***"
   ]
  },
  {
   "cell_type": "code",
   "execution_count": 6,
   "id": "fd4e348c-d30d-48df-973d-067103ec8d0c",
   "metadata": {},
   "outputs": [
    {
     "data": {
      "text/plain": [
       "array([[5, 2],\n",
       "       [4, 4],\n",
       "       [2, 1],\n",
       "       ...,\n",
       "       [6, 6],\n",
       "       [4, 2],\n",
       "       [5, 4]])"
      ]
     },
     "execution_count": 6,
     "metadata": {},
     "output_type": "execute_result"
    }
   ],
   "source": [
    "# Number of dice to roll\n",
    "nodice = 2\n",
    "# Number of turns\n",
    "noturns = 1000\n",
    "dice = np.random.randint(1,7,(noturns,nodice)) # variables above contained in a tuple\n",
    "dice"
   ]
  },
  {
   "cell_type": "code",
   "execution_count": 7,
   "id": "30ada2f9-bc6b-41d7-ac59-28666400941e",
   "metadata": {},
   "outputs": [
    {
     "data": {
      "text/plain": [
       "array([ 7,  8,  3, 12,  5,  7,  6,  7,  9,  3, 10, 11,  2,  7,  2,  9,  7,\n",
       "       10,  8,  5,  7,  4,  9, 11,  7,  8,  8,  6,  7, 12,  6,  3,  6,  8,\n",
       "        4,  6,  8, 10, 10,  5, 10,  9,  6,  6,  5,  8, 11, 12,  5, 10,  2,\n",
       "        6,  6,  4,  8, 12,  8,  9,  9,  7,  3,  3,  4,  8,  5, 11,  9, 11,\n",
       "        4,  5,  7,  9,  9,  6,  8,  7,  8,  8, 10,  7, 11,  4,  7,  9,  6,\n",
       "        7,  8,  8,  6,  9,  7,  8,  7, 10,  7,  8,  9,  4, 10,  7,  2,  7,\n",
       "       12,  9, 12,  7,  5,  4,  7, 11,  7,  8,  4,  6,  6,  6, 10,  9,  4,\n",
       "        7,  9,  8,  4,  4,  3, 11,  5,  6,  4,  5,  7,  4,  6,  5, 10,  3,\n",
       "        6,  6,  6,  5,  9,  4,  5,  7,  9,  2,  6,  6,  7,  2,  2,  7,  6,\n",
       "       10, 10,  8,  7,  3, 11,  6,  6,  9,  8,  5, 10,  7, 10,  6,  7,  5,\n",
       "        7, 10,  6,  9,  5,  9, 11,  3,  9,  5, 10,  9, 10,  5, 11, 10,  5,\n",
       "        7,  5,  7, 12,  4,  5,  4,  2,  7, 10,  5, 11,  7,  5,  4,  7,  9,\n",
       "        8,  6,  7,  8,  9,  4,  8,  6,  6,  6,  2, 11,  3,  2,  6,  5, 12,\n",
       "        8, 11,  8,  7,  5,  8,  4,  5,  6, 12,  9, 11, 12,  7,  3,  7,  4,\n",
       "        6,  8,  9,  8,  8, 12,  7,  5,  7,  4,  5,  6, 10,  8,  4,  6,  4,\n",
       "        4,  7,  5,  4,  5,  4, 11,  7,  5,  6,  3,  9, 10,  5,  7,  6,  5,\n",
       "        5,  5,  5,  2,  6,  4,  3,  7, 11,  7,  7,  6, 11,  7,  5,  3,  8,\n",
       "        6,  7,  6, 10, 10,  8,  8, 10,  7,  7,  6,  6, 11,  5, 11, 10,  3,\n",
       "        9, 10, 10,  6, 11,  7,  4,  5, 11, 11, 10,  7,  9,  6,  6,  8,  4,\n",
       "        7, 11,  5, 11, 10, 10,  7,  6,  4,  3, 10,  9, 10, 11,  9,  7,  8,\n",
       "       10,  8,  9,  5,  4,  7,  3,  8,  9,  6,  2, 11, 11,  6,  8, 11,  5,\n",
       "        9,  8,  5,  9,  6,  7,  9,  6,  8,  8,  9,  9, 10,  5,  8,  6, 11,\n",
       "        7,  9, 10,  8,  5,  5, 11,  6,  9,  3,  9, 10,  5,  3, 11,  7,  7,\n",
       "        8,  7,  3,  9,  8,  7,  4,  6,  4, 11, 10,  7,  5,  8,  6,  4,  6,\n",
       "        3,  6,  3,  9,  3,  7, 10,  7, 10, 12,  3,  5,  4, 11,  6,  6,  5,\n",
       "       10,  6,  6,  4,  8,  8,  9,  7, 11,  9,  5,  6,  8, 10,  9,  9, 10,\n",
       "        5,  9, 12,  9, 10,  5,  7,  8,  4,  5,  9, 12, 10,  5,  9,  7,  5,\n",
       "       12,  7,  9, 11,  6,  6,  6,  4, 11,  6,  3,  2, 10,  3,  9, 11,  7,\n",
       "        5,  7,  7,  7,  9, 10,  4, 11,  6,  2,  4,  5,  4,  9,  4,  5,  7,\n",
       "        5,  9,  2,  5,  7,  6,  8,  2, 12,  3,  8,  4,  6, 12,  5,  6,  6,\n",
       "        7, 11,  7,  9,  6,  6,  8,  7, 10, 10, 11,  6,  4,  4,  3,  6,  5,\n",
       "        5, 11,  7,  4,  4, 10,  4,  8,  7,  6,  6,  8,  8, 11,  4,  7,  5,\n",
       "       10,  7,  2,  8,  3,  9,  9,  8,  9, 10,  5, 10,  7,  7,  3,  6,  8,\n",
       "        6, 11,  4,  6,  9,  4,  6, 10, 11,  4,  6,  8,  5,  7,  9,  8,  7,\n",
       "       11, 10,  4,  5,  3,  6,  6,  6,  9,  5,  8,  3,  4, 10, 11,  9,  5,\n",
       "        7,  8,  7, 12,  7,  7,  7,  6,  5,  6, 10,  7,  4,  8,  8,  5,  9,\n",
       "        8,  6,  8,  5,  9,  6,  9, 12, 10, 10,  7,  8, 10, 12,  2,  9,  5,\n",
       "        6,  8,  4,  9,  9,  7,  7,  9,  4,  9,  9,  6,  8, 10,  7,  8,  8,\n",
       "        4,  6,  6,  9, 11,  5,  2,  4,  8,  7,  2,  5,  6, 11,  7,  8,  7,\n",
       "        7,  7,  5,  5,  5,  4,  4,  8,  8, 12,  5, 10,  4,  7,  6,  4,  6,\n",
       "        5,  7, 11,  6,  6,  9,  7, 12,  6, 11,  4,  4, 10,  7,  7,  7,  7,\n",
       "        5,  7,  5,  6,  6,  6,  7,  9,  4,  8, 12,  5,  4,  6,  8,  4,  6,\n",
       "        9,  8,  6,  5,  5, 10,  8,  3,  7,  5,  5,  3,  5,  5,  9,  3, 12,\n",
       "        7,  8,  6,  8, 11, 11,  4, 10,  6,  8,  9,  8, 10,  7,  6,  8,  7,\n",
       "       11, 11,  6,  9,  7, 10,  7,  8,  5,  8,  8,  7,  9,  6,  7, 11,  6,\n",
       "        6,  6,  7, 11,  6,  7,  7,  9, 10,  7,  5,  6, 11,  4,  3,  4,  8,\n",
       "        4,  6,  6, 12, 10,  9, 10,  5,  9,  5,  7,  3,  6,  6,  3, 10, 11,\n",
       "        6,  3,  6,  7,  7,  2,  7,  8, 12,  6,  5,  4,  8,  5,  9,  5,  9,\n",
       "        7,  7,  4, 12,  7,  8,  6,  5, 10,  5, 10, 11,  8,  9,  9,  9,  5,\n",
       "        5,  6,  3, 11,  7, 10,  3,  6,  6,  9,  7,  4,  4,  3,  6,  4,  2,\n",
       "        6,  8,  5,  5,  9,  6, 12,  2,  4,  7,  7,  8,  6,  8,  8,  7,  4,\n",
       "        7,  3,  8,  6,  8,  7, 11,  9, 12, 10,  8,  7,  8,  8,  3, 11,  7,\n",
       "        6, 12,  8,  6,  5,  4,  3,  8,  7,  5,  5, 11,  6,  2, 11,  7,  3,\n",
       "        8, 11, 10,  7,  7,  9,  7,  6,  8,  9,  7,  3,  7,  6,  9,  5,  7,\n",
       "        2,  7,  4,  6,  3,  8,  6,  6,  9,  8,  9,  7,  8,  7,  7,  7,  5,\n",
       "        3,  7,  6,  9,  6,  5,  9,  4,  6,  3,  3,  5,  4,  7,  5,  5, 11,\n",
       "        4,  7,  8,  8,  6,  7, 10,  9,  7,  5,  4,  5,  4,  9, 10,  6,  5,\n",
       "        7,  5,  7, 11,  3,  6,  7,  5,  5,  8, 10,  6,  9,  4,  7, 10, 11,\n",
       "        4, 11,  6,  7,  6,  8,  9,  9,  5,  6, 10, 12,  6,  9])"
      ]
     },
     "execution_count": 7,
     "metadata": {},
     "output_type": "execute_result"
    }
   ],
   "source": [
    "# Sum the faces of the dice\n",
    "totals = np.sum(dice, axis=1)\n",
    "totals"
   ]
  },
  {
   "cell_type": "code",
   "execution_count": 8,
   "id": "d7336b50-7d91-434f-bcda-ca72f77986d7",
   "metadata": {},
   "outputs": [
    {
     "data": {
      "text/plain": [
       "(array([ 2,  3,  4,  5,  6,  7,  8,  9, 10, 11, 12]),\n",
       " array([ 25,  52,  89, 119, 151, 163, 114, 105,  81,  70,  31], dtype=int64))"
      ]
     },
     "execution_count": 8,
     "metadata": {},
     "output_type": "execute_result"
    }
   ],
   "source": [
    "faces, counts = np.unique(totals,return_counts=True)\n",
    "faces, counts"
   ]
  },
  {
   "cell_type": "code",
   "execution_count": 9,
   "id": "bef2c5a6-1117-4a3b-b74e-fe06fbd31bf3",
   "metadata": {},
   "outputs": [
    {
     "data": {
      "image/png": "[encoded data removed]",
      "text/plain": [
       "<Figure size 432x288 with 1 Axes>"
      ]
     },
     "metadata": {
      "needs_background": "light"
     },
     "output_type": "display_data"
    }
   ],
   "source": [
    "# Plot these results on a bar chart\n",
    "fig, ax = plt.subplots()\n",
    "ax.bar(faces,counts)\n",
    "# Set Axis labels\n",
    "ax.set_ylabel('Faces')\n",
    "ax.set_xlabel('Sums');"
   ]
  },
  {
   "cell_type": "markdown",
   "id": "d0bb8620-72e7-4387-8e14-bdc2fdaf16ec",
   "metadata": {},
   "source": [
    "#### What is matplotlib.pyplot?"
   ]
  },
  {
   "cell_type": "markdown",
   "id": "68e9b35b-7147-4f8f-9279-39cf06f64873",
   "metadata": {},
   "source": [
    "As per matplotlib.org, Matplotlib is a comprehensive library for creating static, animated, and interactive visualizations in Python. Within the matplotlib library is the pyplot module, which provides a MATLAB-like interface [g4]. Designed with the intention of being as usable as MATLAB, Matplotlib has the advantage of the ability to use Python and being both free and open-source [g4g]"
   ]
  },
  {
   "cell_type": "markdown",
   "id": "51e17377-d6e9-43e8-b627-025a0bce2891",
   "metadata": {},
   "source": [
    "<br>"
   ]
  },
  {
   "cell_type": "markdown",
   "id": "f04ccf18-4eb9-40b4-bad9-90151292860b",
   "metadata": {},
   "source": [
    "# Bar Charts & Histograms\n",
    "***"
   ]
  },
  {
   "cell_type": "code",
   "execution_count": 10,
   "id": "7e1dcd3c-6228-4728-8a37-90073b905294",
   "metadata": {},
   "outputs": [],
   "source": [
    "# Change the style of plots\n",
    "plt.style.use('classic')\n",
    "\n",
    "# Change default figure size\n",
    "plt.rcParams['figure.figsize'] = (14,6)"
   ]
  },
  {
   "cell_type": "code",
   "execution_count": null,
   "id": "d5bc2837-18b6-4fdb-b180-3bb810ba0b29",
   "metadata": {},
   "outputs": [],
   "source": []
  },
  {
   "cell_type": "markdown",
   "id": "f5aadf19-257d-4c18-8453-1a51ea305db0",
   "metadata": {},
   "source": [
    "## Bar Charts\n",
    "[https://matplotlib.org/stable/api/_as_gen/matplotlib.pyplot.bar.html](https://matplotlib.org/stable/api/_as_gen/matplotlib.pyplot.bar.html)"
   ]
  },
  {
   "cell_type": "code",
   "execution_count": 11,
   "id": "3e3fbc8b-eaa2-4eb0-a2ff-ada3586aea46",
   "metadata": {},
   "outputs": [],
   "source": [
    "# Load the Iris dataset from a URL into a dataframe\n",
    "df = pd.read_csv(\"https://gist.githubusercontent.com/curran/a08a1080b88344b0c8a7/raw/639388c2cbc2120a14dcf466e85730eb8be498bb/iris.csv\")"
   ]
  },
  {
   "cell_type": "code",
   "execution_count": 12,
   "id": "9aac5a55-8b5f-4d0b-8a28-f7240cc76315",
   "metadata": {},
   "outputs": [
    {
     "data": {
      "text/html": [
       "<div>\n",
       "<style scoped>\n",
       "    .dataframe tbody tr th:only-of-type {\n",
       "        vertical-align: middle;\n",
       "    }\n",
       "\n",
       "    .dataframe tbody tr th {\n",
       "        vertical-align: top;\n",
       "    }\n",
       "\n",
       "    .dataframe thead th {\n",
       "        text-align: right;\n",
       "    }\n",
       "</style>\n",
       "<table border=\"1\" class=\"dataframe\">\n",
       "  <thead>\n",
       "    <tr style=\"text-align: right;\">\n",
       "      <th></th>\n",
       "      <th>sepal_length</th>\n",
       "      <th>sepal_width</th>\n",
       "      <th>petal_length</th>\n",
       "      <th>petal_width</th>\n",
       "      <th>species</th>\n",
       "    </tr>\n",
       "  </thead>\n",
       "  <tbody>\n",
       "    <tr>\n",
       "      <th>0</th>\n",
       "      <td>5.1</td>\n",
       "      <td>3.5</td>\n",
       "      <td>1.4</td>\n",
       "      <td>0.2</td>\n",
       "      <td>setosa</td>\n",
       "    </tr>\n",
       "    <tr>\n",
       "      <th>1</th>\n",
       "      <td>4.9</td>\n",
       "      <td>3.0</td>\n",
       "      <td>1.4</td>\n",
       "      <td>0.2</td>\n",
       "      <td>setosa</td>\n",
       "    </tr>\n",
       "    <tr>\n",
       "      <th>2</th>\n",
       "      <td>4.7</td>\n",
       "      <td>3.2</td>\n",
       "      <td>1.3</td>\n",
       "      <td>0.2</td>\n",
       "      <td>setosa</td>\n",
       "    </tr>\n",
       "    <tr>\n",
       "      <th>3</th>\n",
       "      <td>4.6</td>\n",
       "      <td>3.1</td>\n",
       "      <td>1.5</td>\n",
       "      <td>0.2</td>\n",
       "      <td>setosa</td>\n",
       "    </tr>\n",
       "    <tr>\n",
       "      <th>4</th>\n",
       "      <td>5.0</td>\n",
       "      <td>3.6</td>\n",
       "      <td>1.4</td>\n",
       "      <td>0.2</td>\n",
       "      <td>setosa</td>\n",
       "    </tr>\n",
       "    <tr>\n",
       "      <th>...</th>\n",
       "      <td>...</td>\n",
       "      <td>...</td>\n",
       "      <td>...</td>\n",
       "      <td>...</td>\n",
       "      <td>...</td>\n",
       "    </tr>\n",
       "    <tr>\n",
       "      <th>145</th>\n",
       "      <td>6.7</td>\n",
       "      <td>3.0</td>\n",
       "      <td>5.2</td>\n",
       "      <td>2.3</td>\n",
       "      <td>virginica</td>\n",
       "    </tr>\n",
       "    <tr>\n",
       "      <th>146</th>\n",
       "      <td>6.3</td>\n",
       "      <td>2.5</td>\n",
       "      <td>5.0</td>\n",
       "      <td>1.9</td>\n",
       "      <td>virginica</td>\n",
       "    </tr>\n",
       "    <tr>\n",
       "      <th>147</th>\n",
       "      <td>6.5</td>\n",
       "      <td>3.0</td>\n",
       "      <td>5.2</td>\n",
       "      <td>2.0</td>\n",
       "      <td>virginica</td>\n",
       "    </tr>\n",
       "    <tr>\n",
       "      <th>148</th>\n",
       "      <td>6.2</td>\n",
       "      <td>3.4</td>\n",
       "      <td>5.4</td>\n",
       "      <td>2.3</td>\n",
       "      <td>virginica</td>\n",
       "    </tr>\n",
       "    <tr>\n",
       "      <th>149</th>\n",
       "      <td>5.9</td>\n",
       "      <td>3.0</td>\n",
       "      <td>5.1</td>\n",
       "      <td>1.8</td>\n",
       "      <td>virginica</td>\n",
       "    </tr>\n",
       "  </tbody>\n",
       "</table>\n",
       "<p>150 rows × 5 columns</p>\n",
       "</div>"
      ],
      "text/plain": [
       "     sepal_length  sepal_width  petal_length  petal_width    species\n",
       "0             5.1          3.5           1.4          0.2     setosa\n",
       "1             4.9          3.0           1.4          0.2     setosa\n",
       "2             4.7          3.2           1.3          0.2     setosa\n",
       "3             4.6          3.1           1.5          0.2     setosa\n",
       "4             5.0          3.6           1.4          0.2     setosa\n",
       "..            ...          ...           ...          ...        ...\n",
       "145           6.7          3.0           5.2          2.3  virginica\n",
       "146           6.3          2.5           5.0          1.9  virginica\n",
       "147           6.5          3.0           5.2          2.0  virginica\n",
       "148           6.2          3.4           5.4          2.3  virginica\n",
       "149           5.9          3.0           5.1          1.8  virginica\n",
       "\n",
       "[150 rows x 5 columns]"
      ]
     },
     "execution_count": 12,
     "metadata": {},
     "output_type": "execute_result"
    }
   ],
   "source": [
    "df"
   ]
  },
  {
   "cell_type": "code",
   "execution_count": 13,
   "id": "8f38d26b-331a-400e-91c6-6d0be11d2fe9",
   "metadata": {},
   "outputs": [
    {
     "data": {
      "text/plain": [
       "setosa        50\n",
       "virginica     50\n",
       "versicolor    50\n",
       "Name: species, dtype: int64"
      ]
     },
     "execution_count": 13,
     "metadata": {},
     "output_type": "execute_result"
    }
   ],
   "source": [
    "# Get the value counts for species\n",
    "df['species'].value_counts()"
   ]
  },
  {
   "cell_type": "code",
   "execution_count": 14,
   "id": "498d6ecb-30eb-4b5d-8151-08fe230391b8",
   "metadata": {},
   "outputs": [
    {
     "name": "stdout",
     "output_type": "stream",
     "text": [
      "setosa\n",
      "virginica\n",
      "versicolor\n"
     ]
    }
   ],
   "source": [
    "counts = df['species'].value_counts()\n",
    "\n",
    "for i in counts.index:\n",
    "    print(i)\n",
    "    "
   ]
  },
  {
   "cell_type": "code",
   "execution_count": 15,
   "id": "9438bf66-b923-466d-9e49-dfbfdf41c859",
   "metadata": {},
   "outputs": [
    {
     "data": {
      "text/plain": [
       "Index(['setosa', 'virginica', 'versicolor'], dtype='object')"
      ]
     },
     "execution_count": 15,
     "metadata": {},
     "output_type": "execute_result"
    }
   ],
   "source": [
    "# Extract the categories\n",
    "categories = counts.index\n",
    "categories"
   ]
  },
  {
   "cell_type": "code",
   "execution_count": 16,
   "id": "f7752f7a-68ec-4c80-a236-1099b8e3cd91",
   "metadata": {},
   "outputs": [
    {
     "data": {
      "text/plain": [
       "setosa        50\n",
       "virginica     50\n",
       "versicolor    50\n",
       "Name: species, dtype: int64"
      ]
     },
     "execution_count": 16,
     "metadata": {},
     "output_type": "execute_result"
    }
   ],
   "source": [
    "# Show the counts\n",
    "counts"
   ]
  },
  {
   "cell_type": "code",
   "execution_count": 17,
   "id": "f97c8535-5814-4ee5-a165-642e789b5aab",
   "metadata": {},
   "outputs": [
    {
     "data": {
      "text/plain": [
       "<BarContainer object of 3 artists>"
      ]
     },
     "execution_count": 17,
     "metadata": {},
     "output_type": "execute_result"
    },
    {
     "data": {
      "image/png": "[encoded data removed]",
      "text/plain": [
       "<Figure size 1120x480 with 1 Axes>"
      ]
     },
     "metadata": {},
     "output_type": "display_data"
    }
   ],
   "source": [
    "plt.bar(categories,counts)"
   ]
  },
  {
   "cell_type": "code",
   "execution_count": 18,
   "id": "782b5e11-9228-4793-96b3-3fba34207c99",
   "metadata": {},
   "outputs": [
    {
     "data": {
      "text/plain": [
       "array([0.2, 0.2, 0.2, 0.2, 0.2, 0.4, 0.3, 0.2, 0.2, 0.1, 0.2, 0.2, 0.1,\n",
       "       0.1, 0.2, 0.4, 0.4, 0.3, 0.3, 0.3, 0.2, 0.4, 0.2, 0.5, 0.2, 0.2,\n",
       "       0.4, 0.2, 0.2, 0.2, 0.2, 0.4, 0.1, 0.2, 0.1, 0.2, 0.2, 0.1, 0.2,\n",
       "       0.2, 0.3, 0.3, 0.2, 0.6, 0.4, 0.3, 0.2, 0.2, 0.2, 0.2, 1.4, 1.5,\n",
       "       1.5, 1.3, 1.5, 1.3, 1.6, 1. , 1.3, 1.4, 1. , 1.5, 1. , 1.4, 1.3,\n",
       "       1.4, 1.5, 1. , 1.5, 1.1, 1.8, 1.3, 1.5, 1.2, 1.3, 1.4, 1.4, 1.7,\n",
       "       1.5, 1. , 1.1, 1. , 1.2, 1.6, 1.5, 1.6, 1.5, 1.3, 1.3, 1.3, 1.2,\n",
       "       1.4, 1.2, 1. , 1.3, 1.2, 1.3, 1.3, 1.1, 1.3, 2.5, 1.9, 2.1, 1.8,\n",
       "       2.2, 2.1, 1.7, 1.8, 1.8, 2.5, 2. , 1.9, 2.1, 2. , 2.4, 2.3, 1.8,\n",
       "       2.2, 2.3, 1.5, 2.3, 2. , 2. , 1.8, 2.1, 1.8, 1.8, 1.8, 2.1, 1.6,\n",
       "       1.9, 2. , 2.2, 1.5, 1.4, 2.3, 2.4, 1.8, 1.8, 2.1, 2.4, 2.3, 1.9,\n",
       "       2.3, 2.5, 2.3, 1.9, 2. , 2.3, 1.8])"
      ]
     },
     "execution_count": 18,
     "metadata": {},
     "output_type": "execute_result"
    }
   ],
   "source": [
    "df['petal_width'].to_numpy()"
   ]
  },
  {
   "cell_type": "code",
   "execution_count": 19,
   "id": "b7d7ab7c-1e64-4eee-be39-5621123b9494",
   "metadata": {},
   "outputs": [
    {
     "data": {
      "text/html": [
       "<div>\n",
       "<style scoped>\n",
       "    .dataframe tbody tr th:only-of-type {\n",
       "        vertical-align: middle;\n",
       "    }\n",
       "\n",
       "    .dataframe tbody tr th {\n",
       "        vertical-align: top;\n",
       "    }\n",
       "\n",
       "    .dataframe thead th {\n",
       "        text-align: right;\n",
       "    }\n",
       "</style>\n",
       "<table border=\"1\" class=\"dataframe\">\n",
       "  <thead>\n",
       "    <tr style=\"text-align: right;\">\n",
       "      <th></th>\n",
       "      <th>sepal_length</th>\n",
       "      <th>sepal_width</th>\n",
       "      <th>petal_length</th>\n",
       "      <th>petal_width</th>\n",
       "      <th>species</th>\n",
       "    </tr>\n",
       "  </thead>\n",
       "  <tbody>\n",
       "    <tr>\n",
       "      <th>0</th>\n",
       "      <td>5.1</td>\n",
       "      <td>3.5</td>\n",
       "      <td>1.4</td>\n",
       "      <td>0.2</td>\n",
       "      <td>setosa</td>\n",
       "    </tr>\n",
       "    <tr>\n",
       "      <th>1</th>\n",
       "      <td>4.9</td>\n",
       "      <td>3.0</td>\n",
       "      <td>1.4</td>\n",
       "      <td>0.2</td>\n",
       "      <td>setosa</td>\n",
       "    </tr>\n",
       "    <tr>\n",
       "      <th>2</th>\n",
       "      <td>4.7</td>\n",
       "      <td>3.2</td>\n",
       "      <td>1.3</td>\n",
       "      <td>0.2</td>\n",
       "      <td>setosa</td>\n",
       "    </tr>\n",
       "    <tr>\n",
       "      <th>3</th>\n",
       "      <td>4.6</td>\n",
       "      <td>3.1</td>\n",
       "      <td>1.5</td>\n",
       "      <td>0.2</td>\n",
       "      <td>setosa</td>\n",
       "    </tr>\n",
       "    <tr>\n",
       "      <th>4</th>\n",
       "      <td>5.0</td>\n",
       "      <td>3.6</td>\n",
       "      <td>1.4</td>\n",
       "      <td>0.2</td>\n",
       "      <td>setosa</td>\n",
       "    </tr>\n",
       "    <tr>\n",
       "      <th>5</th>\n",
       "      <td>5.4</td>\n",
       "      <td>3.9</td>\n",
       "      <td>1.7</td>\n",
       "      <td>0.4</td>\n",
       "      <td>setosa</td>\n",
       "    </tr>\n",
       "    <tr>\n",
       "      <th>6</th>\n",
       "      <td>4.6</td>\n",
       "      <td>3.4</td>\n",
       "      <td>1.4</td>\n",
       "      <td>0.3</td>\n",
       "      <td>setosa</td>\n",
       "    </tr>\n",
       "    <tr>\n",
       "      <th>7</th>\n",
       "      <td>5.0</td>\n",
       "      <td>3.4</td>\n",
       "      <td>1.5</td>\n",
       "      <td>0.2</td>\n",
       "      <td>setosa</td>\n",
       "    </tr>\n",
       "    <tr>\n",
       "      <th>8</th>\n",
       "      <td>4.4</td>\n",
       "      <td>2.9</td>\n",
       "      <td>1.4</td>\n",
       "      <td>0.2</td>\n",
       "      <td>setosa</td>\n",
       "    </tr>\n",
       "    <tr>\n",
       "      <th>9</th>\n",
       "      <td>4.9</td>\n",
       "      <td>3.1</td>\n",
       "      <td>1.5</td>\n",
       "      <td>0.1</td>\n",
       "      <td>setosa</td>\n",
       "    </tr>\n",
       "    <tr>\n",
       "      <th>10</th>\n",
       "      <td>5.4</td>\n",
       "      <td>3.7</td>\n",
       "      <td>1.5</td>\n",
       "      <td>0.2</td>\n",
       "      <td>setosa</td>\n",
       "    </tr>\n",
       "    <tr>\n",
       "      <th>11</th>\n",
       "      <td>4.8</td>\n",
       "      <td>3.4</td>\n",
       "      <td>1.6</td>\n",
       "      <td>0.2</td>\n",
       "      <td>setosa</td>\n",
       "    </tr>\n",
       "    <tr>\n",
       "      <th>12</th>\n",
       "      <td>4.8</td>\n",
       "      <td>3.0</td>\n",
       "      <td>1.4</td>\n",
       "      <td>0.1</td>\n",
       "      <td>setosa</td>\n",
       "    </tr>\n",
       "    <tr>\n",
       "      <th>13</th>\n",
       "      <td>4.3</td>\n",
       "      <td>3.0</td>\n",
       "      <td>1.1</td>\n",
       "      <td>0.1</td>\n",
       "      <td>setosa</td>\n",
       "    </tr>\n",
       "    <tr>\n",
       "      <th>14</th>\n",
       "      <td>5.8</td>\n",
       "      <td>4.0</td>\n",
       "      <td>1.2</td>\n",
       "      <td>0.2</td>\n",
       "      <td>setosa</td>\n",
       "    </tr>\n",
       "    <tr>\n",
       "      <th>15</th>\n",
       "      <td>5.7</td>\n",
       "      <td>4.4</td>\n",
       "      <td>1.5</td>\n",
       "      <td>0.4</td>\n",
       "      <td>setosa</td>\n",
       "    </tr>\n",
       "    <tr>\n",
       "      <th>16</th>\n",
       "      <td>5.4</td>\n",
       "      <td>3.9</td>\n",
       "      <td>1.3</td>\n",
       "      <td>0.4</td>\n",
       "      <td>setosa</td>\n",
       "    </tr>\n",
       "    <tr>\n",
       "      <th>17</th>\n",
       "      <td>5.1</td>\n",
       "      <td>3.5</td>\n",
       "      <td>1.4</td>\n",
       "      <td>0.3</td>\n",
       "      <td>setosa</td>\n",
       "    </tr>\n",
       "    <tr>\n",
       "      <th>18</th>\n",
       "      <td>5.7</td>\n",
       "      <td>3.8</td>\n",
       "      <td>1.7</td>\n",
       "      <td>0.3</td>\n",
       "      <td>setosa</td>\n",
       "    </tr>\n",
       "    <tr>\n",
       "      <th>19</th>\n",
       "      <td>5.1</td>\n",
       "      <td>3.8</td>\n",
       "      <td>1.5</td>\n",
       "      <td>0.3</td>\n",
       "      <td>setosa</td>\n",
       "    </tr>\n",
       "    <tr>\n",
       "      <th>20</th>\n",
       "      <td>5.4</td>\n",
       "      <td>3.4</td>\n",
       "      <td>1.7</td>\n",
       "      <td>0.2</td>\n",
       "      <td>setosa</td>\n",
       "    </tr>\n",
       "    <tr>\n",
       "      <th>21</th>\n",
       "      <td>5.1</td>\n",
       "      <td>3.7</td>\n",
       "      <td>1.5</td>\n",
       "      <td>0.4</td>\n",
       "      <td>setosa</td>\n",
       "    </tr>\n",
       "    <tr>\n",
       "      <th>22</th>\n",
       "      <td>4.6</td>\n",
       "      <td>3.6</td>\n",
       "      <td>1.0</td>\n",
       "      <td>0.2</td>\n",
       "      <td>setosa</td>\n",
       "    </tr>\n",
       "    <tr>\n",
       "      <th>23</th>\n",
       "      <td>5.1</td>\n",
       "      <td>3.3</td>\n",
       "      <td>1.7</td>\n",
       "      <td>0.5</td>\n",
       "      <td>setosa</td>\n",
       "    </tr>\n",
       "    <tr>\n",
       "      <th>24</th>\n",
       "      <td>4.8</td>\n",
       "      <td>3.4</td>\n",
       "      <td>1.9</td>\n",
       "      <td>0.2</td>\n",
       "      <td>setosa</td>\n",
       "    </tr>\n",
       "    <tr>\n",
       "      <th>25</th>\n",
       "      <td>5.0</td>\n",
       "      <td>3.0</td>\n",
       "      <td>1.6</td>\n",
       "      <td>0.2</td>\n",
       "      <td>setosa</td>\n",
       "    </tr>\n",
       "    <tr>\n",
       "      <th>26</th>\n",
       "      <td>5.0</td>\n",
       "      <td>3.4</td>\n",
       "      <td>1.6</td>\n",
       "      <td>0.4</td>\n",
       "      <td>setosa</td>\n",
       "    </tr>\n",
       "    <tr>\n",
       "      <th>27</th>\n",
       "      <td>5.2</td>\n",
       "      <td>3.5</td>\n",
       "      <td>1.5</td>\n",
       "      <td>0.2</td>\n",
       "      <td>setosa</td>\n",
       "    </tr>\n",
       "    <tr>\n",
       "      <th>28</th>\n",
       "      <td>5.2</td>\n",
       "      <td>3.4</td>\n",
       "      <td>1.4</td>\n",
       "      <td>0.2</td>\n",
       "      <td>setosa</td>\n",
       "    </tr>\n",
       "    <tr>\n",
       "      <th>29</th>\n",
       "      <td>4.7</td>\n",
       "      <td>3.2</td>\n",
       "      <td>1.6</td>\n",
       "      <td>0.2</td>\n",
       "      <td>setosa</td>\n",
       "    </tr>\n",
       "    <tr>\n",
       "      <th>30</th>\n",
       "      <td>4.8</td>\n",
       "      <td>3.1</td>\n",
       "      <td>1.6</td>\n",
       "      <td>0.2</td>\n",
       "      <td>setosa</td>\n",
       "    </tr>\n",
       "    <tr>\n",
       "      <th>31</th>\n",
       "      <td>5.4</td>\n",
       "      <td>3.4</td>\n",
       "      <td>1.5</td>\n",
       "      <td>0.4</td>\n",
       "      <td>setosa</td>\n",
       "    </tr>\n",
       "    <tr>\n",
       "      <th>32</th>\n",
       "      <td>5.2</td>\n",
       "      <td>4.1</td>\n",
       "      <td>1.5</td>\n",
       "      <td>0.1</td>\n",
       "      <td>setosa</td>\n",
       "    </tr>\n",
       "    <tr>\n",
       "      <th>33</th>\n",
       "      <td>5.5</td>\n",
       "      <td>4.2</td>\n",
       "      <td>1.4</td>\n",
       "      <td>0.2</td>\n",
       "      <td>setosa</td>\n",
       "    </tr>\n",
       "    <tr>\n",
       "      <th>34</th>\n",
       "      <td>4.9</td>\n",
       "      <td>3.1</td>\n",
       "      <td>1.5</td>\n",
       "      <td>0.1</td>\n",
       "      <td>setosa</td>\n",
       "    </tr>\n",
       "    <tr>\n",
       "      <th>35</th>\n",
       "      <td>5.0</td>\n",
       "      <td>3.2</td>\n",
       "      <td>1.2</td>\n",
       "      <td>0.2</td>\n",
       "      <td>setosa</td>\n",
       "    </tr>\n",
       "    <tr>\n",
       "      <th>36</th>\n",
       "      <td>5.5</td>\n",
       "      <td>3.5</td>\n",
       "      <td>1.3</td>\n",
       "      <td>0.2</td>\n",
       "      <td>setosa</td>\n",
       "    </tr>\n",
       "    <tr>\n",
       "      <th>37</th>\n",
       "      <td>4.9</td>\n",
       "      <td>3.1</td>\n",
       "      <td>1.5</td>\n",
       "      <td>0.1</td>\n",
       "      <td>setosa</td>\n",
       "    </tr>\n",
       "    <tr>\n",
       "      <th>38</th>\n",
       "      <td>4.4</td>\n",
       "      <td>3.0</td>\n",
       "      <td>1.3</td>\n",
       "      <td>0.2</td>\n",
       "      <td>setosa</td>\n",
       "    </tr>\n",
       "    <tr>\n",
       "      <th>39</th>\n",
       "      <td>5.1</td>\n",
       "      <td>3.4</td>\n",
       "      <td>1.5</td>\n",
       "      <td>0.2</td>\n",
       "      <td>setosa</td>\n",
       "    </tr>\n",
       "    <tr>\n",
       "      <th>40</th>\n",
       "      <td>5.0</td>\n",
       "      <td>3.5</td>\n",
       "      <td>1.3</td>\n",
       "      <td>0.3</td>\n",
       "      <td>setosa</td>\n",
       "    </tr>\n",
       "    <tr>\n",
       "      <th>41</th>\n",
       "      <td>4.5</td>\n",
       "      <td>2.3</td>\n",
       "      <td>1.3</td>\n",
       "      <td>0.3</td>\n",
       "      <td>setosa</td>\n",
       "    </tr>\n",
       "    <tr>\n",
       "      <th>42</th>\n",
       "      <td>4.4</td>\n",
       "      <td>3.2</td>\n",
       "      <td>1.3</td>\n",
       "      <td>0.2</td>\n",
       "      <td>setosa</td>\n",
       "    </tr>\n",
       "    <tr>\n",
       "      <th>43</th>\n",
       "      <td>5.0</td>\n",
       "      <td>3.5</td>\n",
       "      <td>1.6</td>\n",
       "      <td>0.6</td>\n",
       "      <td>setosa</td>\n",
       "    </tr>\n",
       "    <tr>\n",
       "      <th>44</th>\n",
       "      <td>5.1</td>\n",
       "      <td>3.8</td>\n",
       "      <td>1.9</td>\n",
       "      <td>0.4</td>\n",
       "      <td>setosa</td>\n",
       "    </tr>\n",
       "    <tr>\n",
       "      <th>45</th>\n",
       "      <td>4.8</td>\n",
       "      <td>3.0</td>\n",
       "      <td>1.4</td>\n",
       "      <td>0.3</td>\n",
       "      <td>setosa</td>\n",
       "    </tr>\n",
       "    <tr>\n",
       "      <th>46</th>\n",
       "      <td>5.1</td>\n",
       "      <td>3.8</td>\n",
       "      <td>1.6</td>\n",
       "      <td>0.2</td>\n",
       "      <td>setosa</td>\n",
       "    </tr>\n",
       "    <tr>\n",
       "      <th>47</th>\n",
       "      <td>4.6</td>\n",
       "      <td>3.2</td>\n",
       "      <td>1.4</td>\n",
       "      <td>0.2</td>\n",
       "      <td>setosa</td>\n",
       "    </tr>\n",
       "    <tr>\n",
       "      <th>48</th>\n",
       "      <td>5.3</td>\n",
       "      <td>3.7</td>\n",
       "      <td>1.5</td>\n",
       "      <td>0.2</td>\n",
       "      <td>setosa</td>\n",
       "    </tr>\n",
       "    <tr>\n",
       "      <th>49</th>\n",
       "      <td>5.0</td>\n",
       "      <td>3.3</td>\n",
       "      <td>1.4</td>\n",
       "      <td>0.2</td>\n",
       "      <td>setosa</td>\n",
       "    </tr>\n",
       "  </tbody>\n",
       "</table>\n",
       "</div>"
      ],
      "text/plain": [
       "    sepal_length  sepal_width  petal_length  petal_width species\n",
       "0            5.1          3.5           1.4          0.2  setosa\n",
       "1            4.9          3.0           1.4          0.2  setosa\n",
       "2            4.7          3.2           1.3          0.2  setosa\n",
       "3            4.6          3.1           1.5          0.2  setosa\n",
       "4            5.0          3.6           1.4          0.2  setosa\n",
       "5            5.4          3.9           1.7          0.4  setosa\n",
       "6            4.6          3.4           1.4          0.3  setosa\n",
       "7            5.0          3.4           1.5          0.2  setosa\n",
       "8            4.4          2.9           1.4          0.2  setosa\n",
       "9            4.9          3.1           1.5          0.1  setosa\n",
       "10           5.4          3.7           1.5          0.2  setosa\n",
       "11           4.8          3.4           1.6          0.2  setosa\n",
       "12           4.8          3.0           1.4          0.1  setosa\n",
       "13           4.3          3.0           1.1          0.1  setosa\n",
       "14           5.8          4.0           1.2          0.2  setosa\n",
       "15           5.7          4.4           1.5          0.4  setosa\n",
       "16           5.4          3.9           1.3          0.4  setosa\n",
       "17           5.1          3.5           1.4          0.3  setosa\n",
       "18           5.7          3.8           1.7          0.3  setosa\n",
       "19           5.1          3.8           1.5          0.3  setosa\n",
       "20           5.4          3.4           1.7          0.2  setosa\n",
       "21           5.1          3.7           1.5          0.4  setosa\n",
       "22           4.6          3.6           1.0          0.2  setosa\n",
       "23           5.1          3.3           1.7          0.5  setosa\n",
       "24           4.8          3.4           1.9          0.2  setosa\n",
       "25           5.0          3.0           1.6          0.2  setosa\n",
       "26           5.0          3.4           1.6          0.4  setosa\n",
       "27           5.2          3.5           1.5          0.2  setosa\n",
       "28           5.2          3.4           1.4          0.2  setosa\n",
       "29           4.7          3.2           1.6          0.2  setosa\n",
       "30           4.8          3.1           1.6          0.2  setosa\n",
       "31           5.4          3.4           1.5          0.4  setosa\n",
       "32           5.2          4.1           1.5          0.1  setosa\n",
       "33           5.5          4.2           1.4          0.2  setosa\n",
       "34           4.9          3.1           1.5          0.1  setosa\n",
       "35           5.0          3.2           1.2          0.2  setosa\n",
       "36           5.5          3.5           1.3          0.2  setosa\n",
       "37           4.9          3.1           1.5          0.1  setosa\n",
       "38           4.4          3.0           1.3          0.2  setosa\n",
       "39           5.1          3.4           1.5          0.2  setosa\n",
       "40           5.0          3.5           1.3          0.3  setosa\n",
       "41           4.5          2.3           1.3          0.3  setosa\n",
       "42           4.4          3.2           1.3          0.2  setosa\n",
       "43           5.0          3.5           1.6          0.6  setosa\n",
       "44           5.1          3.8           1.9          0.4  setosa\n",
       "45           4.8          3.0           1.4          0.3  setosa\n",
       "46           5.1          3.8           1.6          0.2  setosa\n",
       "47           4.6          3.2           1.4          0.2  setosa\n",
       "48           5.3          3.7           1.5          0.2  setosa\n",
       "49           5.0          3.3           1.4          0.2  setosa"
      ]
     },
     "execution_count": 19,
     "metadata": {},
     "output_type": "execute_result"
    }
   ],
   "source": [
    "# Extract the setosa data and create a new df\n",
    "df_setosa = df[df['species'] == 'setosa']\n",
    "df_setosa"
   ]
  },
  {
   "cell_type": "code",
   "execution_count": 20,
   "id": "4687b7b7-342b-4403-9eeb-b4745835ccee",
   "metadata": {},
   "outputs": [
    {
     "data": {
      "text/plain": [
       "0.2    28\n",
       "0.4     7\n",
       "0.3     7\n",
       "0.1     6\n",
       "0.5     1\n",
       "0.6     1\n",
       "Name: petal_width, dtype: int64"
      ]
     },
     "execution_count": 20,
     "metadata": {},
     "output_type": "execute_result"
    }
   ],
   "source": [
    "# Get the value counts of the setosa petal widths\n",
    "setosa_petals = df_setosa['petal_width']\n",
    "\n",
    "spetal_counts = setosa_petals.value_counts()\n",
    "spetal_counts"
   ]
  },
  {
   "cell_type": "code",
   "execution_count": 21,
   "id": "7fe93d85-da1a-401d-bf59-e7fc3893725e",
   "metadata": {},
   "outputs": [
    {
     "data": {
      "text/plain": [
       "<BarContainer object of 6 artists>"
      ]
     },
     "execution_count": 21,
     "metadata": {},
     "output_type": "execute_result"
    },
    {
     "data": {
      "image/png": "[encoded data removed]",
      "text/plain": [
       "<Figure size 1120x480 with 1 Axes>"
      ]
     },
     "metadata": {},
     "output_type": "display_data"
    }
   ],
   "source": [
    "# Plot a bar chart (not the correct plot to use for categorical data)\n",
    "plt.bar(spetal_counts.index,spetal_counts,width=0.05)"
   ]
  },
  {
   "cell_type": "markdown",
   "id": "d20b30e3-690f-4f64-898c-d2cffc0ba016",
   "metadata": {},
   "source": [
    "<br>"
   ]
  },
  {
   "cell_type": "markdown",
   "id": "005bcb0e-83c0-449b-ad66-c37e866dbc68",
   "metadata": {},
   "source": [
    "## Histograms\n",
    "[https://matplotlib.org/stable/api/_as_gen/matplotlib.pyplot.hist.html](https://matplotlib.org/stable/api/_as_gen/matplotlib.pyplot.hist.html)"
   ]
  },
  {
   "cell_type": "code",
   "execution_count": 22,
   "id": "9bfebe4b-21aa-4440-a329-a89ce09598b1",
   "metadata": {},
   "outputs": [
    {
     "data": {
      "text/plain": [
       "(array([ 9., 23., 14., 27., 16., 26., 18.,  6.,  5.,  6.]),\n",
       " array([4.3 , 4.66, 5.02, 5.38, 5.74, 6.1 , 6.46, 6.82, 7.18, 7.54, 7.9 ]),\n",
       " <BarContainer object of 10 artists>)"
      ]
     },
     "execution_count": 22,
     "metadata": {},
     "output_type": "execute_result"
    },
    {
     "data": {
      "image/png": "[encoded data removed]",
      "text/plain": [
       "<Figure size 1120x480 with 1 Axes>"
      ]
     },
     "metadata": {},
     "output_type": "display_data"
    }
   ],
   "source": [
    "plt.hist(df['sepal_length'])"
   ]
  },
  {
   "cell_type": "code",
   "execution_count": 23,
   "id": "fadadc46-da27-44ea-9cee-7133ce47dc39",
   "metadata": {},
   "outputs": [],
   "source": [
    "# Split the df into 3 new dfs for the sepal length of each species\n",
    "df_set_sep_len = df[df['species'] == 'setosa']['sepal_length'].to_numpy()\n",
    "df_ver_sep_len = df[df['species'] == 'versicolor']['sepal_length'].to_numpy()\n",
    "df_vir_sep_len = df[df['species'] == 'virginica']['sepal_length'].to_numpy()"
   ]
  },
  {
   "cell_type": "code",
   "execution_count": 24,
   "id": "bf601d2e-85f5-4137-9cd5-172fb526f077",
   "metadata": {},
   "outputs": [
    {
     "data": {
      "text/plain": [
       "array([[5.1, 7. , 6.3],\n",
       "       [4.9, 6.4, 5.8],\n",
       "       [4.7, 6.9, 7.1],\n",
       "       [4.6, 5.5, 6.3],\n",
       "       [5. , 6.5, 6.5],\n",
       "       [5.4, 5.7, 7.6],\n",
       "       [4.6, 6.3, 4.9],\n",
       "       [5. , 4.9, 7.3],\n",
       "       [4.4, 6.6, 6.7],\n",
       "       [4.9, 5.2, 7.2],\n",
       "       [5.4, 5. , 6.5],\n",
       "       [4.8, 5.9, 6.4],\n",
       "       [4.8, 6. , 6.8],\n",
       "       [4.3, 6.1, 5.7],\n",
       "       [5.8, 5.6, 5.8],\n",
       "       [5.7, 6.7, 6.4],\n",
       "       [5.4, 5.6, 6.5],\n",
       "       [5.1, 5.8, 7.7],\n",
       "       [5.7, 6.2, 7.7],\n",
       "       [5.1, 5.6, 6. ],\n",
       "       [5.4, 5.9, 6.9],\n",
       "       [5.1, 6.1, 5.6],\n",
       "       [4.6, 6.3, 7.7],\n",
       "       [5.1, 6.1, 6.3],\n",
       "       [4.8, 6.4, 6.7],\n",
       "       [5. , 6.6, 7.2],\n",
       "       [5. , 6.8, 6.2],\n",
       "       [5.2, 6.7, 6.1],\n",
       "       [5.2, 6. , 6.4],\n",
       "       [4.7, 5.7, 7.2],\n",
       "       [4.8, 5.5, 7.4],\n",
       "       [5.4, 5.5, 7.9],\n",
       "       [5.2, 5.8, 6.4],\n",
       "       [5.5, 6. , 6.3],\n",
       "       [4.9, 5.4, 6.1],\n",
       "       [5. , 6. , 7.7],\n",
       "       [5.5, 6.7, 6.3],\n",
       "       [4.9, 6.3, 6.4],\n",
       "       [4.4, 5.6, 6. ],\n",
       "       [5.1, 5.5, 6.9],\n",
       "       [5. , 5.5, 6.7],\n",
       "       [4.5, 6.1, 6.9],\n",
       "       [4.4, 5.8, 5.8],\n",
       "       [5. , 5. , 6.8],\n",
       "       [5.1, 5.6, 6.7],\n",
       "       [4.8, 5.7, 6.7],\n",
       "       [5.1, 5.7, 6.3],\n",
       "       [4.6, 6.2, 6.5],\n",
       "       [5.3, 5.1, 6.2],\n",
       "       [5. , 5.7, 5.9]])"
      ]
     },
     "execution_count": 24,
     "metadata": {},
     "output_type": "execute_result"
    }
   ],
   "source": [
    "x = np.vstack([df_set_sep_len,df_ver_sep_len,df_vir_sep_len]).T #transpose\n",
    "x"
   ]
  },
  {
   "cell_type": "code",
   "execution_count": 25,
   "id": "34396a2c-50ac-46ba-9fc7-5cb863713fb3",
   "metadata": {},
   "outputs": [
    {
     "data": {
      "text/plain": [
       "(array([[ 9., 19., 12.,  9.,  1.,  0.,  0.,  0.,  0.,  0.],\n",
       "        [ 0.,  3.,  2., 16.,  9., 11.,  7.,  2.,  0.,  0.],\n",
       "        [ 0.,  1.,  0.,  2.,  6., 15., 11.,  4.,  5.,  6.]]),\n",
       " array([4.3 , 4.66, 5.02, 5.38, 5.74, 6.1 , 6.46, 6.82, 7.18, 7.54, 7.9 ]),\n",
       " <a list of 3 BarContainer objects>)"
      ]
     },
     "execution_count": 25,
     "metadata": {},
     "output_type": "execute_result"
    },
    {
     "data": {
      "image/png": "[encoded data removed]",
      "text/plain": [
       "<Figure size 1120x480 with 1 Axes>"
      ]
     },
     "metadata": {},
     "output_type": "display_data"
    }
   ],
   "source": [
    "plt.hist(x)"
   ]
  },
  {
   "cell_type": "markdown",
   "id": "bd068e36-11d0-4acc-9435-fcb0f70bd2bf",
   "metadata": {},
   "source": [
    "<br>"
   ]
  },
  {
   "cell_type": "markdown",
   "id": "19c2dc12-3a2b-4f8a-a421-dede633da81f",
   "metadata": {},
   "source": [
    "## Kernel Density Estimates\n",
    "***"
   ]
  },
  {
   "cell_type": "code",
   "execution_count": 26,
   "id": "621c6faf-b5aa-42ed-9d11-605855f7da26",
   "metadata": {},
   "outputs": [],
   "source": [
    "# Change the plot style\n",
    "plt.style.use('fivethirtyeight')\n",
    "\n",
    "# Change the figure size\n",
    "plt.rcParams[\"figure.figsize\"] = (20,5)"
   ]
  },
  {
   "cell_type": "markdown",
   "id": "ccbf8988-023d-47d7-8f25-67d6a1db29ba",
   "metadata": {},
   "source": [
    "<br>"
   ]
  },
  {
   "cell_type": "markdown",
   "id": "0fec08f1-997b-4133-ae3b-e3b5431fe16e",
   "metadata": {},
   "source": [
    "### PDF: Probability Density Function"
   ]
  },
  {
   "cell_type": "code",
   "execution_count": 27,
   "id": "7843f777-a327-437c-a896-65a3c7d609a0",
   "metadata": {},
   "outputs": [],
   "source": [
    "# Normal Distribution Function - calculate the pdf of a normal distribution\n",
    "def normalpdf(x, mu=0.0, sigma=1.0):\n",
    "    denom = sigma * np.sqrt(2.0 * np.pi)\n",
    "    numer = np.exp(-0.5 * np.square((x - mu) / sigma))\n",
    "    return (numer / denom)"
   ]
  },
  {
   "cell_type": "code",
   "execution_count": 28,
   "id": "f7eba096-180e-4010-86b5-c33ed8af2c1b",
   "metadata": {},
   "outputs": [
    {
     "data": {
      "text/plain": [
       "array([0.24197072, 0.39894228, 0.24197072])"
      ]
     },
     "execution_count": 28,
     "metadata": {},
     "output_type": "execute_result"
    }
   ],
   "source": [
    "# Test the function\n",
    "normalpdf(np.array([-1.0,0.0,1.0]))"
   ]
  },
  {
   "cell_type": "code",
   "execution_count": 29,
   "id": "679e69ea-a5fd-4330-9e10-d929bec6a1b4",
   "metadata": {},
   "outputs": [
    {
     "data": {
      "text/plain": [
       "[<matplotlib.lines.Line2D at 0x297d1f28ca0>]"
      ]
     },
     "execution_count": 29,
     "metadata": {},
     "output_type": "execute_result"
    },
    {
     "data": {
      "image/png": "[encoded data removed]",
      "text/plain": [
       "<Figure size 1600x400 with 1 Axes>"
      ]
     },
     "metadata": {},
     "output_type": "display_data"
    }
   ],
   "source": [
    "fig, ax = plt.subplots()\n",
    "\n",
    "# Red line\n",
    "# Calculate some x values\n",
    "x = np.linspace(-5.0,5.0,1000)\n",
    "\n",
    "# Calculate some y values with mu = 0 & sigma = 1\n",
    "y = normalpdf(x,mu=0.0,sigma=1.0)\n",
    "\n",
    "ax.plot(x, y, 'r-')\n",
    "\n",
    "# Blue line\n",
    "# Calculate some x values\n",
    "x = np.linspace(-5.0,5.0,1000)\n",
    "\n",
    "# Calculate some y values with mu = 0 & sigma = sqrt(0.2)\n",
    "y = normalpdf(x, mu=0.0, sigma=np.sqrt(0.2))\n",
    "\n",
    "ax.plot(x, y, 'b-')\n",
    "\n",
    "# Yellow line\n",
    "# Calculate some x values\n",
    "x = np.linspace(-5.0,5.0,1000)\n",
    "\n",
    "# Calculate some y values with mu = 0 & sigma = sqrt(5.0)\n",
    "y = normalpdf(x, mu=0.0, sigma=np.sqrt(5.0))\n",
    "\n",
    "ax.plot(x, y, 'y-')\n",
    "\n",
    "# Green line\n",
    "# Calculate some x values\n",
    "x = np.linspace(-5.0,5.0,1000)\n",
    "\n",
    "# Calculate some y values with mu = 0 & sigma = sqrt(0.5)\n",
    "y = normalpdf(x, mu=-2.0, sigma=np.sqrt(0.5))\n",
    "\n",
    "ax.plot(x, y, 'g-')"
   ]
  },
  {
   "cell_type": "code",
   "execution_count": null,
   "id": "1089859d-a962-4456-8349-f8f308809f5a",
   "metadata": {},
   "outputs": [],
   "source": []
  },
  {
   "cell_type": "code",
   "execution_count": null,
   "id": "367cbd47-7c1a-4ee9-afc7-6c5ed63509d8",
   "metadata": {},
   "outputs": [],
   "source": []
  },
  {
   "cell_type": "code",
   "execution_count": null,
   "id": "8e519157-96e4-4a0b-8878-b3238097fc1b",
   "metadata": {},
   "outputs": [],
   "source": []
  },
  {
   "cell_type": "code",
   "execution_count": null,
   "id": "d2aed94f-613e-4d02-94d0-30154d16b603",
   "metadata": {},
   "outputs": [],
   "source": []
  },
  {
   "cell_type": "markdown",
   "id": "afc7ee88-1d0d-44e7-b1b2-0a6bf44dfc71",
   "metadata": {},
   "source": [
    "### Pie Charts\n",
    "***"
   ]
  },
  {
   "cell_type": "markdown",
   "id": "01d971ec-c230-4216-b918-f884fafa37a1",
   "metadata": {},
   "source": [
    "**What is a Pie Chart? What are they used for? How do I Use them in Pyplot?**"
   ]
  },
  {
   "cell_type": "markdown",
   "id": "1240abd2-d8e3-449f-9bb8-1b2abc9fd41c",
   "metadata": {},
   "source": [
    "Ref https://www.geeksforgeeks.org/plot-a-pie-chart-in-python-using-matplotlib/: A Pie Chart is a circular statistical plot that can display only one series of data. The area of the chart is the total percentage of the given data. The area of slices of the pie represents the percentage of the parts of the data. The slices of pie are called wedges. The area of the wedge is determined by the length of the arc of the wedge. The area of a wedge represents the relative percentage of that part with respect to whole data. Pie charts are commonly used in business presentations like sales, operations, survey results, resources, etc as they provide a quick summary."
   ]
  },
  {
   "cell_type": "markdown",
   "id": "23f8113a-5daf-4fea-bdbe-c739cc0e2303",
   "metadata": {},
   "source": [
    "Ref https://www.tutorialspoint.com/matplotlib/matplotlib_pie_chart.htm: A Pie Chart can only display one series of data. Pie charts show the size of items (called wedge) in one data series, proportional to the sum of the items. The data points in a pie chart are shown as a percentage of the whole pie.\n",
    "\n",
    "Matplotlib API has a pie() function that generates a pie diagram representing data in an array. The fractional area of each wedge is given by x/sum(x). If sum(x)< 1, then the values of x give the fractional area directly and the array will not be normalized. Theresulting pie will have an empty wedge of size 1 - sum(x).\n",
    "\n",
    "The pie chart looks best if the figure and axes are square, or the Axes aspect is equal.\n",
    "\n",
    "Parameters  \n",
    "Following table lists down the parameters foe a pie chart −  \n",
    "\n",
    "x\tarray-like. The wedge sizes.  \n",
    "labels\tlist. A sequence of strings providing the labels for each wedge.  \n",
    "Colors\tA sequence of matplotlibcolorargs through which the pie chart will cycle. If None, will use the colors in the currently active cycle.  \n",
    "Autopct\tstring, used to label the wedges with their numeric value. The label will be placed inside the wedge. The format string will be fmt%pct.  "
   ]
  },
  {
   "cell_type": "markdown",
   "id": "f6f08317-c27a-4ffb-8dbe-76f3fd9df7b9",
   "metadata": {},
   "source": [
    "**Pie Chart Example**  \n",
    "Lets plot a pie chart showing the breakdown of the different COVID-19 vaccines administered in Ireland.  \n",
    "\n",
    "_**Note:**_ the data used in the following example was taken from https://covid-19.geohive.ie/pages/vaccinations and accessed on 20th December 2021.  "
   ]
  },
  {
   "cell_type": "code",
   "execution_count": 80,
   "id": "fdb9d662-8013-4fb4-8a8e-701ef77f10b2",
   "metadata": {},
   "outputs": [
    {
     "data": {
      "image/png": "[encoded data removed]",
      "text/plain": [
       "<Figure size 1200x800 with 1 Axes>"
      ]
     },
     "metadata": {},
     "output_type": "display_data"
    }
   ],
   "source": [
    "y = np.array([73.2, 15.98, 7.65, 3.17])\n",
    "mylabels = [\"Pfizer-BioNTech\", \"AstraZeneca\", \"Moderna\", \"Janssen\"]\n",
    "\n",
    "# Example of how to use the autopct parameter below was found at https://stackoverflow.com/questions/6170246/how-do-i-use-matplotlib-autopct\n",
    "plt.pie(y, labels = mylabels, autopct = '%.2f%%')\n",
    "plt.legend(title = \"Vaccines Available:\")\n",
    "plt.title(\"Breakdown of COVID-19 Vaccines Administered\")\n",
    "plt.rcParams['figure.figsize'] = (10,10)\n",
    "plt.show() "
   ]
  },
  {
   "cell_type": "code",
   "execution_count": null,
   "id": "b14f18ad-2f67-40a9-a4d6-a6274fbb96ee",
   "metadata": {},
   "outputs": [],
   "source": []
  },
  {
   "cell_type": "code",
   "execution_count": null,
   "id": "028b8e3c-c9f0-4d47-8860-181e54f4b893",
   "metadata": {},
   "outputs": [],
   "source": []
  },
  {
   "cell_type": "code",
   "execution_count": null,
   "id": "775f1db3-5360-48c5-861f-2296f5353351",
   "metadata": {},
   "outputs": [],
   "source": []
  },
  {
   "cell_type": "code",
   "execution_count": null,
   "id": "d2d8f9cc-091d-45d4-a708-68cb53aa76c2",
   "metadata": {},
   "outputs": [],
   "source": []
  },
  {
   "cell_type": "markdown",
   "id": "bf973d42-82fc-415f-bdcd-82f30a712f1b",
   "metadata": {},
   "source": [
    "<br>"
   ]
  },
  {
   "cell_type": "markdown",
   "id": "12e25146-b553-42e3-9ded-962a0a99f4b8",
   "metadata": {},
   "source": [
    "#### References\n",
    "***"
   ]
  },
  {
   "cell_type": "markdown",
   "id": "171a3bd3-7890-45a7-9f26-18f55f401a30",
   "metadata": {},
   "source": [
    "[] https://matplotlib.org/  \n",
    "[] https://matplotlib.org/stable/api/_as_gen/matplotlib.pyplot.html  \n",
    "[] https://matplotlib.org/stable/tutorials/introductory/pyplot.html  \n",
    "[] https://matplotlib.org/stable/users/index.html  \n",
    "[] https://towardsdatascience.com/a-practical-summary-of-matplotlib-in-13-python-snippets-4d07f0011bdf  \n",
    "[] https://www.tutorialspoint.com/matplotlib/matplotlib_pie_chart.htm  \n",
    "[] https://www.geeksforgeeks.org/graph-plotting-in-python-set-1/  \n",
    "[] https://www.geeksforgeeks.org/pyplot-in-matplotlib/  \n",
    "[] https://www.geeksforgeeks.org/plot-a-pie-chart-in-python-using-matplotlib/  \n",
    "[] https://www.w3schools.com/python/matplotlib_intro.asp  \n"
   ]
  },
  {
   "cell_type": "code",
   "execution_count": null,
   "id": "59c85999-5719-4048-b392-abfec53ddb8c",
   "metadata": {},
   "outputs": [],
   "source": []
  }
 ],
 "metadata": {
  "kernelspec": {
   "display_name": "Python 3",
   "language": "python",
   "name": "python3"
  },
  "language_info": {
   "codemirror_mode": {
    "name": "ipython",
    "version": 3
   },
   "file_extension": ".py",
   "mimetype": "text/x-python",
   "name": "python",
   "nbconvert_exporter": "python",
   "pygments_lexer": "ipython3",
   "version": "3.8.8"
  }
 },
 "nbformat": 4,
 "nbformat_minor": 5
}
