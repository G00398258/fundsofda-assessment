{
 "cells": [
  {
   "cell_type": "markdown",
   "id": "189bec56-e908-4d16-a70d-f5e16675c9f5",
   "metadata": {},
   "source": [
    "# CAO Points Notebook\n",
    "[http://www.cao.ie/index.php?page=points&p=2021](http://www.cao.ie/index.php?page=points&p=2021)\n",
    "***"
   ]
  },
  {
   "cell_type": "code",
   "execution_count": 1,
   "id": "a6fcf961-e65f-4bc9-87b9-b633de35e7c4",
   "metadata": {},
   "outputs": [],
   "source": [
    "# Convenient HTTP requests\n",
    "import requests as rq # Requests\n",
    "# Regular Expressions\n",
    "import re # Regular Expressions\n",
    "# Dates and times\n",
    "import datetime as dt"
   ]
  },
  {
   "cell_type": "code",
   "execution_count": 2,
   "id": "2395f910-039d-4381-815c-61b14f61b4a7",
   "metadata": {},
   "outputs": [
    {
     "data": {
      "text/plain": [
       "<Response [200]>"
      ]
     },
     "execution_count": 2,
     "metadata": {},
     "output_type": "execute_result"
    }
   ],
   "source": [
    "# Fetch the CAO URL\n",
    "resp = rq.get('http://www2.cao.ie/points/l8.php')\n",
    "# Testing this request\n",
    "resp"
   ]
  },
  {
   "cell_type": "code",
   "execution_count": 3,
   "id": "340a8064-2162-487f-bb55-a1c23dbe7906",
   "metadata": {},
   "outputs": [],
   "source": [
    "# Get the current date and time\n",
    "now = dt.datetime.now()\n",
    "# Save the date and time as a string so it can be reused\n",
    "now_str = now.strftime('%Y%m%d_%H%M%S')\n",
    "# Create a file path for the original data using the date and time\n",
    "path = 'cao2021_' + now_str + '.html'"
   ]
  },
  {
   "cell_type": "code",
   "execution_count": 4,
   "id": "1371fa2e-2d72-4517-9562-ca2f4856f2da",
   "metadata": {},
   "outputs": [],
   "source": [
    "# Server uses the wrong encoding, we need to change it from iso-8859-1 to cp1252\n",
    "original_encoding = resp.encoding\n",
    "original_encoding\n",
    "resp.encoding = 'cp1252'"
   ]
  },
  {
   "cell_type": "code",
   "execution_count": 5,
   "id": "3232bcf9-8cc5-4ffb-9284-3b20e9d9df20",
   "metadata": {},
   "outputs": [],
   "source": [
    "# Save the file\n",
    "with open(path, 'w') as f:\n",
    "    f.write(resp.text)"
   ]
  },
  {
   "cell_type": "code",
   "execution_count": null,
   "id": "c2065138-2783-462c-b9d1-562df50a7ab5",
   "metadata": {},
   "outputs": [],
   "source": []
  },
  {
   "cell_type": "code",
   "execution_count": 6,
   "id": "37625a51-4cc7-4dbb-bd47-1c25fd18e73b",
   "metadata": {},
   "outputs": [],
   "source": [
    "# Compile the regular expression for matching lines with course info\n",
    "# re_course = re.compile('([A-Z]{2}[0-9]{3})  (.*)([0-9]{3})(\\*?) *') # Ian's code\n",
    "re_course = re.compile(r'([A-Z]{2}[0-9]{3})  (.*)   +(.*)  +(.*)')"
   ]
  },
  {
   "cell_type": "code",
   "execution_count": 7,
   "id": "f684de5e-6821-48fe-854f-e806c66b65ec",
   "metadata": {},
   "outputs": [
    {
     "name": "stdout",
     "output_type": "stream",
     "text": [
      "949\n"
     ]
    }
   ],
   "source": [
    "# Loop through the lines of the response content\n",
    "no_lines = 0\n",
    "for line in resp.iter_lines():\n",
    "    if re_course.match(line.decode('iso-8859-1')):\n",
    "        #print(line)\n",
    "        no_lines = no_lines +1\n",
    "      \n",
    "# Check how many lines are being captured\n",
    "print (no_lines)"
   ]
  },
  {
   "cell_type": "code",
   "execution_count": 8,
   "id": "a8e13031-5123-4e86-94b0-256471b53cc0",
   "metadata": {
    "scrolled": true,
    "tags": []
   },
   "outputs": [],
   "source": [
    "csv_path = 'cao2021_re_' + now_str + '.csv'\n",
    "with open(csv_path,'w') as f:\n",
    "    \n",
    "    # Now loop through and print out the lines matching the RE\n",
    "    for line in resp.iter_lines():\n",
    "        if re_course.match(line.decode('cp1252')):\n",
    "            csv_version = re_course.sub(r'\\1,\\2,\\3,\\4', line.decode('cp1252'))\n",
    "            #print(csv_version)\n",
    "            #print(line)\n",
    "            f.write(csv_version + '\\n')\n",
    "            \n",
    "            # Using the line split method\n",
    "            # Split the lines on two or more spaces\n",
    "            #linesplit = re.split('  +',line.decode('cp1252'))\n",
    "            #print(','.join(linesplit))\n",
    "            #f.write(','.join(linesplit) + '\\n') "
   ]
  },
  {
   "cell_type": "code",
   "execution_count": null,
   "id": "54b3078c-9f41-4c68-bc87-ad913547cef6",
   "metadata": {},
   "outputs": [],
   "source": []
  }
 ],
 "metadata": {
  "kernelspec": {
   "display_name": "Python 3",
   "language": "python",
   "name": "python3"
  },
  "language_info": {
   "codemirror_mode": {
    "name": "ipython",
    "version": 3
   },
   "file_extension": ".py",
   "mimetype": "text/x-python",
   "name": "python",
   "nbconvert_exporter": "python",
   "pygments_lexer": "ipython3",
   "version": "3.8.8"
  }
 },
 "nbformat": 4,
 "nbformat_minor": 5
}
