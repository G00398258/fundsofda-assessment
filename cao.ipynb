{
 "cells": [
  {
   "cell_type": "markdown",
   "id": "189bec56-e908-4d16-a70d-f5e16675c9f5",
   "metadata": {},
   "source": [
    "# CAO Points Notebook\n",
    "[http://www.cao.ie/index.php?page=points&p=2021](http://www.cao.ie/index.php?page=points&p=2021)\n",
    "***"
   ]
  },
  {
   "cell_type": "code",
   "execution_count": 1,
   "id": "a6fcf961-e65f-4bc9-87b9-b633de35e7c4",
   "metadata": {},
   "outputs": [],
   "source": [
    "import requests as rq # Requests\n",
    "import re # Regular Expressions"
   ]
  },
  {
   "cell_type": "code",
   "execution_count": 2,
   "id": "2395f910-039d-4381-815c-61b14f61b4a7",
   "metadata": {},
   "outputs": [
    {
     "data": {
      "text/plain": [
       "<Response [200]>"
      ]
     },
     "execution_count": 2,
     "metadata": {},
     "output_type": "execute_result"
    }
   ],
   "source": [
    "# Fetch the CAO URL\n",
    "resp = rq.get('http://www2.cao.ie/points/l8.php') # resp = response\n",
    "# Testing this request\n",
    "resp"
   ]
  },
  {
   "cell_type": "code",
   "execution_count": 19,
   "id": "37625a51-4cc7-4dbb-bd47-1c25fd18e73b",
   "metadata": {},
   "outputs": [],
   "source": [
    "# Compile the regular expression for matching lines with course info\n",
    "re_course = re.compile('([A-Z]{2}[0-9]{3})  (.*)([0-9]{3})(\\*?) *')"
   ]
  },
  {
   "cell_type": "code",
   "execution_count": 20,
   "id": "f684de5e-6821-48fe-854f-e806c66b65ec",
   "metadata": {},
   "outputs": [
    {
     "name": "stdout",
     "output_type": "stream",
     "text": [
      "922\n"
     ]
    }
   ],
   "source": [
    "# Loop through the lines of the response content\n",
    "no_lines = 0\n",
    "for line in resp.iter_lines():\n",
    "    if re_course.fullmatch(line.decode('iso-8859-1')):\n",
    "        #print(line)\n",
    "        no_lines = no_lines +1\n",
    "      \n",
    "# Check how many lines are being captured\n",
    "print (no_lines)"
   ]
  },
  {
   "cell_type": "code",
   "execution_count": 25,
   "id": "a8e13031-5123-4e86-94b0-256471b53cc0",
   "metadata": {},
   "outputs": [
    {
     "ename": "SyntaxError",
     "evalue": "unexpected character after line continuation character (<ipython-input-25-85992492b312>, line 4)",
     "output_type": "error",
     "traceback": [
      "\u001b[1;36m  File \u001b[1;32m\"<ipython-input-25-85992492b312>\"\u001b[1;36m, line \u001b[1;32m4\u001b[0m\n\u001b[1;33m    csv_version = re_course.sub(\\1,\\2,\\3,', line.decode('iso-8859-1'))\u001b[0m\n\u001b[1;37m                                                                      ^\u001b[0m\n\u001b[1;31mSyntaxError\u001b[0m\u001b[1;31m:\u001b[0m unexpected character after line continuation character\n"
     ]
    }
   ],
   "source": [
    "# Now loop through and print out the lines matching the RE\n",
    "for line in resp.iter_lines():\n",
    "    if re_course.fullmatch(line.decode('iso-8859-1')):\n",
    "        csv_version = re_course.sub(\\1,\\2,\\3,', line.decode('iso-8859-1'))\n",
    "        print(csv_version)\n",
    "        print(line)"
   ]
  },
  {
   "cell_type": "code",
   "execution_count": null,
   "id": "7c0bbe1a-654a-43e8-b8b9-da2d6fa09f04",
   "metadata": {},
   "outputs": [],
   "source": []
  }
 ],
 "metadata": {
  "kernelspec": {
   "display_name": "Python 3",
   "language": "python",
   "name": "python3"
  },
  "language_info": {
   "codemirror_mode": {
    "name": "ipython",
    "version": 3
   },
   "file_extension": ".py",
   "mimetype": "text/x-python",
   "name": "python",
   "nbconvert_exporter": "python",
   "pygments_lexer": "ipython3",
   "version": "3.8.8"
  }
 },
 "nbformat": 4,
 "nbformat_minor": 5
}
